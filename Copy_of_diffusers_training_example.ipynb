{
  "cells": [
    {
      "cell_type": "markdown",
      "id": "34cac24c-df25-49a7-9828-5518a31df8bc",
      "metadata": {
        "id": "34cac24c-df25-49a7-9828-5518a31df8bc"
      },
      "source": [
        "# 🤗 Training with Diffusers\n",
        "\n",
        "In recent months, it has become clear that diffusion models have taken the throne as the state-of-the-art generative models. Here, we will use Hugging Face's brand new [Diffusers](https://github.com/huggingface/diffusers) library to train a simple diffusion model."
      ]
    },
    {
      "cell_type": "markdown",
      "id": "69ea0189-8329-49be-830a-3e22f50ee3c5",
      "metadata": {
        "id": "69ea0189-8329-49be-830a-3e22f50ee3c5"
      },
      "source": [
        "## Installing the dependencies\n",
        "\n",
        "This notebook leverages the [🤗 Datasets](https://huggingface.co/docs/datasets/index) library to load and preprocess image datasets and the [🤗 Accelerate](https://huggingface.co/docs/accelerate/index) library to simplify training on any number of GPUs, with features like automatic gradient accumulation and tensorboard logging. Let's install them here:"
      ]
    },
    {
      "cell_type": "code",
      "execution_count": null,
      "id": "4dnwEwhV4SrD",
      "metadata": {
        "id": "4dnwEwhV4SrD"
      },
      "outputs": [],
      "source": [
        "%%capture\n",
        "!pip install diffusers[training]==0.11.1"
      ]
    },
    {
      "cell_type": "markdown",
      "id": "tIYT2Tn2Q4cr",
      "metadata": {
        "id": "tIYT2Tn2Q4cr"
      },
      "source": [
        "To be able to share your model with the community, there are a few more steps to follow.|\n",
        "\n",
        "First you have to store your authentication token from the Hugging Face website (sign up [here](https://huggingface.co/join) if you haven't already!) then execute the following cell and input your **write** token:"
      ]
    },
    {
      "cell_type": "code",
      "execution_count": null,
      "id": "_jvgpNfk70xI",
      "metadata": {
        "colab": {
          "base_uri": "https://localhost:8080/"
        },
        "id": "_jvgpNfk70xI",
        "outputId": "33cbcdb8-72f7-452e-8661-18f27341e74f"
      },
      "outputs": [],
      "source": [
        "!pip install --use-pep517 google-colab"
      ]
    },
    {
      "cell_type": "code",
      "execution_count": null,
      "id": "-vQPIkaSRDKF",
      "metadata": {
        "colab": {
          "base_uri": "https://localhost:8080/",
          "height": 17,
          "referenced_widgets": [
            "c04188d703e54dd48534f64f14e27d88",
            "1a73c1ec883a4f2db974428e686e86b6",
            "ee34e9c10b1945a4a9a6d533e68b1451",
            "c4ba3d05a8b2440cb53189d16f2ccea9",
            "8892aae8615f4a6b89ddc61a330d83dc",
            "7bb9c1084e464b16b44986954e77a09c",
            "7111619bfb9b4289bcdd77471146aba0",
            "afdc98339227417c8dc7a85532aea038",
            "26502ceb6b104ee7a3eba433306adc87",
            "bb3cbaf37d9b471b888c4ba05b52be5d",
            "8bc1610027d64d118ce155412d49e20a",
            "edc89d2cb26e475dbd72b78d7368747b",
            "e306259074614f82a1fc37e1a0a8193a",
            "c1031c8e315940869db6844417ae2de6",
            "37ad50eb28e1403ba3bc1b17ac3a894f",
            "52a2d5b1247c4da48b90f303be7ee054",
            "3cb27010cd0b4f05ae795e3b710ef7ae"
          ]
        },
        "id": "-vQPIkaSRDKF",
        "outputId": "f7051539-79d7-46cd-a947-175a64f89e80"
      },
      "outputs": [],
      "source": [
        "from huggingface_hub import notebook_login\n",
        "\n",
        "notebook_login()"
      ]
    },
    {
      "cell_type": "code",
      "execution_count": null,
      "id": "L3yX4fqd7s06",
      "metadata": {
        "colab": {
          "base_uri": "https://localhost:8080/",
          "height": 644
        },
        "id": "L3yX4fqd7s06",
        "outputId": "79707db5-610e-4c6a-aed2-e7b425f74801"
      },
      "outputs": [],
      "source": [
        "from google.colab import output\n",
        "output.enable_custom_widget_manager()"
      ]
    },
    {
      "cell_type": "markdown",
      "id": "dHyWNgKo7s1C",
      "metadata": {
        "id": "dHyWNgKo7s1C"
      },
      "source": [
        "Support for third party widgets will remain active for the duration of the session. To disable support:"
      ]
    },
    {
      "cell_type": "code",
      "execution_count": null,
      "id": "U85SpMXb7s1C",
      "metadata": {
        "id": "U85SpMXb7s1C"
      },
      "outputs": [],
      "source": [
        "from google.colab import output\n",
        "output.disable_custom_widget_manager()"
      ]
    },
    {
      "cell_type": "markdown",
      "id": "fgMTbF9XRH_b",
      "metadata": {
        "id": "fgMTbF9XRH_b"
      },
      "source": [
        "\n",
        "Then you need to install Git-LFS to upload your model checkpoints:"
      ]
    },
    {
      "cell_type": "code",
      "execution_count": null,
      "id": "4b562u6iRF9G",
      "metadata": {
        "id": "4b562u6iRF9G"
      },
      "outputs": [],
      "source": [
        "%%capture\n",
        "!sudo apt -qq install git-lfs\n",
        "!git config --global credential.helper store"
      ]
    },
    {
      "cell_type": "code",
      "execution_count": null,
      "id": "cQmVzSdm8Q9t",
      "metadata": {
        "colab": {
          "base_uri": "https://localhost:8080/"
        },
        "id": "cQmVzSdm8Q9t",
        "outputId": "2e4dbab6-23aa-4f21-8b7b-a64caab19bce"
      },
      "outputs": [],
      "source": [
        "import torch"
      ]
    },
    {
      "cell_type": "markdown",
      "id": "6312e0aa-a48b-4990-ab16-4f3952ee2eb7",
      "metadata": {
        "id": "6312e0aa-a48b-4990-ab16-4f3952ee2eb7"
      },
      "source": [
        "## Config\n",
        "\n",
        "For convenience, we define a configuration grouping all the training hyperparameters. This would be similar to the arguments used for a [training script](https://github.com/huggingface/diffusers/tree/main/examples).\n",
        "Here we choose reasonable defaults for hyperparameters like `num_epochs`, `learning_rate`, `lr_warmup_steps`, but feel free to adjust them if you train on your own dataset. For example, `num_epochs` can be increased to 100 for better visual quality."
      ]
    },
    {
      "cell_type": "code",
      "execution_count": null,
      "id": "57ba9761",
      "metadata": {},
      "outputs": [],
      "source": [
        "import os\n",
        "from accelerate.utils import write_basic_config\n",
        "\n",
        "write_basic_config()  # Write a config file"
      ]
    },
    {
      "cell_type": "code",
      "execution_count": null,
      "id": "1f740dfe-e610-4479-ac30-cce1f9e62553",
      "metadata": {
        "id": "1f740dfe-e610-4479-ac30-cce1f9e62553"
      },
      "outputs": [],
      "source": [
        "from dataclasses import dataclass\n",
        "\n",
        "@dataclass\n",
        "class TrainingConfig:\n",
        "    image_size = 128  # the generated image resolution\n",
        "    train_batch_size = 16\n",
        "    eval_batch_size = 16  # how many images to sample during evaluation\n",
        "    num_epochs = 100\n",
        "    gradient_accumulation_steps = 1\n",
        "    learning_rate = 1e-4\n",
        "    lr_warmup_steps = 500\n",
        "    save_image_epochs = 10\n",
        "    save_model_epochs = 30\n",
        "    mixed_precision = 'fp16'  # `no` for float32, `fp16` for automatic mixed precision\n",
        "    output_dir = 'flowers-102-categories'  # the model namy locally and on the HF Hub\n",
        "\n",
        "    push_to_hub = True  # whether to upload the saved model to the HF Hub\n",
        "    hub_private_repo = False\n",
        "    overwrite_output_dir = True  # overwrite the old model when re-running the notebook\n",
        "    seed = 0\n",
        "\n",
        "config = TrainingConfig()"
      ]
    },
    {
      "cell_type": "markdown",
      "id": "09f4e50c-23d9-4057-ae37-c954d7e063bb",
      "metadata": {
        "id": "09f4e50c-23d9-4057-ae37-c954d7e063bb"
      },
      "source": [
        "## Loading the dataset\n",
        "\n",
        "We will use the [🤗 Datasets](https://github.com/huggingface/datasets) library to download our image dataset.\n",
        "\n",
        "In this case, the [Butterflies dataset](https://huggingface.co/datasets/huggan/smithsonian_butterflies_subset) is hosted remotely, but you can load a local [ImageFolder](https://huggingface.co/docs/datasets/v2.0.0/en/image_process#imagefolder) as shown in the commets below."
      ]
    },
    {
      "cell_type": "code",
      "execution_count": null,
      "id": "ucm2jktIBRYX",
      "metadata": {
        "colab": {
          "base_uri": "https://localhost:8080/"
        },
        "id": "ucm2jktIBRYX",
        "outputId": "2866c48d-325b-45ac-a953-ba1075545b1a"
      },
      "outputs": [],
      "source": [
        "!pip install -U --force-reinstall charset-normalizer"
      ]
    },
    {
      "cell_type": "code",
      "execution_count": null,
      "id": "MZBmwh34BY1C",
      "metadata": {
        "colab": {
          "base_uri": "https://localhost:8080/"
        },
        "id": "MZBmwh34BY1C",
        "outputId": "6640484d-3f9e-4eb9-9a38-34b2f28da3b3"
      },
      "outputs": [],
      "source": [
        "!pip install cchardet utils"
      ]
    },
    {
      "cell_type": "code",
      "execution_count": null,
      "id": "1aaf676d-e992-4606-9116-f0324de50772",
      "metadata": {
        "colab": {
          "base_uri": "https://localhost:8080/",
          "height": 1000
        },
        "id": "1aaf676d-e992-4606-9116-f0324de50772",
        "outputId": "4bdb5640-fa45-4677-e900-377afff773dd"
      },
      "outputs": [],
      "source": [
        "from datasets import load_dataset\n",
        "\n",
        "# config.dataset_name = \"huggan/smithsonian_butterflies_subset\"\n",
        "# dataset = load_dataset(config.dataset_name, split=\"train\")\n",
        "\n",
        "# Feel free to try other datasets from https://hf.co/huggan/ too!\n",
        "# Here's is a dataset of flower photos:\n",
        "config.dataset_name = \"huggan/flowers-102-categories\"\n",
        "dataset = load_dataset(config.dataset_name, split=\"train\")\n",
        "\n",
        "# Or just load images from a local folder!\n",
        "# config.dataset_name = \"imagefolder\"\n",
        "# dataset = load_dataset(config.dataset_name, data_dir=\"path/to/folder\")"
      ]
    },
    {
      "cell_type": "markdown",
      "id": "2USEY8xYYZEO",
      "metadata": {
        "id": "2USEY8xYYZEO"
      },
      "source": [
        "The dataset contains several extra `features` (columns), but the one that we're interested in is `image`:"
      ]
    },
    {
      "cell_type": "code",
      "execution_count": null,
      "id": "tnv1mnmWYZoK",
      "metadata": {
        "id": "tnv1mnmWYZoK"
      },
      "outputs": [],
      "source": [
        "dataset"
      ]
    },
    {
      "cell_type": "markdown",
      "id": "tRg5MsxBaHFk",
      "metadata": {
        "id": "tRg5MsxBaHFk"
      },
      "source": [
        "Since the [`Image`](https://huggingface.co/docs/datasets/image_process#image-datasets) feature loads the images with PIL, we can easily look at a few examples:"
      ]
    },
    {
      "cell_type": "code",
      "execution_count": null,
      "id": "lCl4MHkK2GmG",
      "metadata": {
        "colab": {
          "base_uri": "https://localhost:8080/"
        },
        "id": "lCl4MHkK2GmG",
        "outputId": "30b84eb0-f3ce-488f-cc9d-631013d1b2f4"
      },
      "outputs": [],
      "source": [
        "!pip3 install torch torchvision torchaudio --index-url https://download.pytorch.org/whl/cu118"
      ]
    },
    {
      "cell_type": "code",
      "execution_count": null,
      "id": "EhD-s-on18nY",
      "metadata": {
        "colab": {
          "base_uri": "https://localhost:8080/"
        },
        "id": "EhD-s-on18nY",
        "outputId": "746ae223-f85f-4d5b-a871-770b28d3f809"
      },
      "outputs": [],
      "source": [
        "!pip install matplotlib"
      ]
    },
    {
      "cell_type": "code",
      "execution_count": null,
      "id": "f7SW5Yh2AXEm",
      "metadata": {
        "colab": {
          "base_uri": "https://localhost:8080/"
        },
        "id": "f7SW5Yh2AXEm",
        "outputId": "64c6f03f-594b-4190-cd71-fe7d273df0e7"
      },
      "outputs": [],
      "source": [
        "!pip install pillow"
      ]
    },
    {
      "cell_type": "code",
      "execution_count": null,
      "id": "AchvRobca31r",
      "metadata": {
        "id": "AchvRobca31r"
      },
      "outputs": [],
      "source": [
        "import matplotlib.pyplot as plt\n",
        "\n",
        "fig, axs = plt.subplots(1, 4, figsize=(16, 4))\n",
        "for i, image in enumerate(dataset[:4][\"image\"]):\n",
        "    axs[i].imshow(image)\n",
        "    axs[i].set_axis_off()\n",
        "fig.show()"
      ]
    },
    {
      "cell_type": "markdown",
      "id": "BTMWxFwgj5xh",
      "metadata": {
        "id": "BTMWxFwgj5xh"
      },
      "source": [
        "The images in the dataset are all different, so we need to preprocess them first:\n",
        "* `Resize` makes the images conform to a square resolution of `config.image_size`\n",
        "* `RandomHorizontalFlip` augments the dataset by randomly mirroring the images.\n",
        "* `Normalize` is important to rescale the pixel values into a `[-1, 1]` range (which our model will expect)."
      ]
    },
    {
      "cell_type": "code",
      "execution_count": null,
      "id": "83158bea-273e-4088-a75a-e3c7cc86e0fc",
      "metadata": {
        "colab": {
          "base_uri": "https://localhost:8080/",
          "height": 801
        },
        "id": "83158bea-273e-4088-a75a-e3c7cc86e0fc",
        "outputId": "0a7bacd4-86ac-4bf1-ac48-cf643b94ffed"
      },
      "outputs": [],
      "source": [
        "from torchvision import transforms\n",
        "\n",
        "preprocess = transforms.Compose(\n",
        "    [\n",
        "        transforms.Resize((config.image_size, config.image_size)),\n",
        "        transforms.RandomHorizontalFlip(),\n",
        "        transforms.ToTensor(),\n",
        "        transforms.Normalize([0.5], [0.5]),\n",
        "    ]\n",
        ")"
      ]
    },
    {
      "cell_type": "markdown",
      "id": "ELMRWDKxfVXw",
      "metadata": {
        "id": "ELMRWDKxfVXw"
      },
      "source": [
        "🤗 Datasets offer a handy `set_transform()` method to apply the image transformations on the fly during training:"
      ]
    },
    {
      "cell_type": "code",
      "execution_count": null,
      "id": "eBdbdooxe9am",
      "metadata": {
        "id": "eBdbdooxe9am"
      },
      "outputs": [],
      "source": [
        "def transform(examples):\n",
        "    images = [preprocess(image.convert(\"RGB\")) for image in examples[\"image\"]]\n",
        "    return {\"images\": images}\n",
        "\n",
        "dataset.set_transform(transform)"
      ]
    },
    {
      "cell_type": "markdown",
      "id": "GqCHZsjnfcW1",
      "metadata": {
        "id": "GqCHZsjnfcW1"
      },
      "source": [
        "Let's see what they look like now"
      ]
    },
    {
      "cell_type": "code",
      "execution_count": null,
      "id": "3YcuQZXafk0g",
      "metadata": {
        "colab": {
          "base_uri": "https://localhost:8080/",
          "height": 1000
        },
        "id": "3YcuQZXafk0g",
        "outputId": "bba60483-9209-4d5f-9707-4381ce9a8ff0"
      },
      "outputs": [],
      "source": [
        "fig, axs = plt.subplots(1, 4, figsize=(16, 4))\n",
        "for i, image in enumerate(dataset[:4][\"images\"]):\n",
        "    axs[i].imshow(image.permute(1, 2, 0).numpy() / 2 + 0.5)\n",
        "    axs[i].set_axis_off()\n",
        "fig.show()"
      ]
    },
    {
      "cell_type": "markdown",
      "id": "oiR0bNZ-plUL",
      "metadata": {
        "id": "oiR0bNZ-plUL"
      },
      "source": [
        "Now that all our images have the same size and are converted to tensors, we can create the dataloader we will use for training."
      ]
    },
    {
      "cell_type": "code",
      "execution_count": null,
      "id": "rjBFh_8HpVam",
      "metadata": {
        "id": "rjBFh_8HpVam"
      },
      "outputs": [],
      "source": [
        "import torch\n",
        "\n",
        "train_dataloader = torch.utils.data.DataLoader(dataset, batch_size=config.train_batch_size, shuffle=True)"
      ]
    },
    {
      "cell_type": "markdown",
      "id": "584739c5-83f5-4077-8379-89a7c9ff1bf2",
      "metadata": {
        "id": "584739c5-83f5-4077-8379-89a7c9ff1bf2"
      },
      "source": [
        "## Defining the diffusion model\n",
        "\n",
        "Here we set up our diffusion model. Diffusion models are neural networks that are trained to predict slightly less noisy images from a noisy input. At inference, they can be used to iteratively transform a random noise to generate an image:\n",
        "\n",
        "<p align=\"center\">\n",
        "    <img src=\"https://user-images.githubusercontent.com/10695622/174349667-04e9e485-793b-429a-affe-096e8199ad5b.png\" width=\"800\"/>\n",
        "    <br>\n",
        "    <em> Figure from DDPM paper (https://arxiv.org/abs/2006.11239). </em>\n",
        "<p>\n",
        "\n",
        "Don't worry too much about the math if you're not familiar with it, the import part to remember is that our model corresponds to the arrow $p_{\\theta}(x_{t-1}|x_{t})$ (which is a fancy way of saying: predict a slightly less noisy image).\n",
        "\n",
        "The interesting part is that it's really easy to add some noise to an image, so the training can happen in a semi-supervised fashion as follows:\n",
        "1. Take an image from the training set.\n",
        "2. Apply to it some random noise $t$ times (this will give the $x_{t-1}$ and the $x_{t}$ in the figure above).\n",
        "3. Give this noisy image to the model along with the value of $t$.\n",
        "4. Compute a loss from the output of the model and the noised image $x_{t-1}$.\n",
        "\n",
        "Then we can apply gradient descent and repeat this process multiple times."
      ]
    },
    {
      "cell_type": "markdown",
      "id": "5Xl7Zd72qp8w",
      "metadata": {
        "id": "5Xl7Zd72qp8w"
      },
      "source": [
        "Most diffusion models use architectures that are some variant of a [U-net](https://arxiv.org/abs/1505.04597) and that's what we'll use here.\n",
        "\n",
        "![](https://huggingface.co/datasets/huggingface/documentation-images/resolve/main/unet-model.png)\n",
        "\n",
        "In a nutshell:\n",
        "- the model has the input image go through several blocks of ResNet layers which halves the image size by 2\n",
        "- then through the same number of blocks that upsample it again.\n",
        "- there are skip connections linking the features on the downample path to the corresponsding layers in the upsample path.\n",
        "\n",
        "A key feature of this model is that it predicts images of the same size as the input, which is exactly what we need here.\n",
        "\n",
        "Diffusers provides us a handy `UNet2DModel` class which creates the desired architecture in PyTorch.\n",
        "\n",
        "Let's create a U-net for our desired image size.\n",
        "Note that `down_block_types` correspond to the downsampling blocks (green on the diagram above), and `up_block_types` are the upsampling blocks (red on the diagram):\n"
      ]
    },
    {
      "cell_type": "code",
      "execution_count": null,
      "id": "-aKG4SNt6_ax",
      "metadata": {
        "colab": {
          "base_uri": "https://localhost:8080/"
        },
        "id": "-aKG4SNt6_ax",
        "outputId": "2d1fa825-f2d5-43cb-e5d8-ebd93fc6502f"
      },
      "outputs": [],
      "source": [
        "%pip install \"jax[cuda12_pip]==0.4.23\" -f https://storage.googleapis.com/jax-releases/jax_cuda_releases.html"
      ]
    },
    {
      "cell_type": "code",
      "execution_count": null,
      "id": "e3eb5811-c10b-4dae-a58d-9583c42e7f57",
      "metadata": {
        "id": "e3eb5811-c10b-4dae-a58d-9583c42e7f57"
      },
      "outputs": [],
      "source": [
        "from diffusers import UNet2DModel\n",
        "\n",
        "\n",
        "model = UNet2DModel(\n",
        "    sample_size=config.image_size,  # the target image resolution\n",
        "    in_channels=3,  # the number of input channels, 3 for RGB images\n",
        "    out_channels=3,  # the number of output channels\n",
        "    layers_per_block=2,  # how many ResNet layers to use per UNet block\n",
        "    block_out_channels=(128, 128, 256, 256, 512, 512),  # the number of output channes for each UNet block\n",
        "    down_block_types=(\n",
        "        \"DownBlock2D\",  # a regular ResNet downsampling block\n",
        "        \"DownBlock2D\",\n",
        "        \"DownBlock2D\",\n",
        "        \"DownBlock2D\",\n",
        "        \"AttnDownBlock2D\",  # a ResNet downsampling block with spatial self-attention\n",
        "        \"DownBlock2D\",\n",
        "    ),\n",
        "    up_block_types=(\n",
        "        \"UpBlock2D\",  # a regular ResNet upsampling block\n",
        "        \"AttnUpBlock2D\",  # a ResNet upsampling block with spatial self-attention\n",
        "        \"UpBlock2D\",\n",
        "        \"UpBlock2D\",\n",
        "        \"UpBlock2D\",\n",
        "        \"UpBlock2D\"\n",
        "      ),\n",
        ")"
      ]
    },
    {
      "cell_type": "markdown",
      "id": "XVFZ9G6r6Zl6",
      "metadata": {
        "id": "XVFZ9G6r6Zl6"
      },
      "source": [
        "Let's get a sample image from our dataset and pass it into our model. We just need to add a batch dimension:"
      ]
    },
    {
      "cell_type": "code",
      "execution_count": null,
      "id": "7cd51b19-c237-4ddf-be90-b22db18f919f",
      "metadata": {
        "colab": {
          "base_uri": "https://localhost:8080/",
          "height": 1000
        },
        "id": "7cd51b19-c237-4ddf-be90-b22db18f919f",
        "outputId": "4abe5158-c766-4b36-de30-f93c57bf3327"
      },
      "outputs": [],
      "source": [
        "sample_image = dataset[0]['images'].unsqueeze(0)\n",
        "print('Input shape:', sample_image.shape)"
      ]
    },
    {
      "cell_type": "markdown",
      "id": "7ZwaxdNntjj4",
      "metadata": {
        "id": "7ZwaxdNntjj4"
      },
      "source": [
        "And let's check the output is a tensor of the same exact shape:"
      ]
    },
    {
      "cell_type": "code",
      "execution_count": null,
      "id": "c34886ac-fe74-4624-8faa-8236616babc4",
      "metadata": {
        "colab": {
          "base_uri": "https://localhost:8080/"
        },
        "id": "c34886ac-fe74-4624-8faa-8236616babc4",
        "outputId": "7fbe8868-5f17-49d8-84ec-5a0309d44d89"
      },
      "outputs": [],
      "source": [
        "print('Output shape:', model(sample_image, timestep=0).sample.shape)"
      ]
    },
    {
      "cell_type": "markdown",
      "id": "15e22892-18b6-44b1-a197-46d23a70e970",
      "metadata": {
        "id": "15e22892-18b6-44b1-a197-46d23a70e970"
      },
      "source": [
        "Great!\n",
        "\n",
        "Note that our model takes in the (noisy) image and also the current time-step (as we saw before in the training overview). That time-step information is converted for the model using a sinusoidal positional embedding, similar to what Transformer models often do.\n",
        "\n",
        "Now that we have our model, we just need an object to *add noise to an image*. This is done by the **schedulers** in the `diffusers` library."
      ]
    },
    {
      "cell_type": "markdown",
      "id": "85ea3716-a22a-45d4-a8e9-3f513c77c35c",
      "metadata": {
        "id": "85ea3716-a22a-45d4-a8e9-3f513c77c35c"
      },
      "source": [
        "## Defining the noise scheduler\n",
        "\n",
        "Depending on the diffusion algorithm you want to use, the way images are noised is slightly different. That's why 🤗 Diffusers contains different scheduler classes which each define the algorithm-specific diffusion steps. Here we are going to use the `DDPMScheduler` which corresponds to the training denoising and training algorithm proposed in [Denoising Diffusion Probabilistic Models](https://arxiv.org/abs/2006.11239)."
      ]
    },
    {
      "cell_type": "code",
      "execution_count": null,
      "id": "575a059d-a849-449e-8e11-72abc9c9fe2d",
      "metadata": {
        "id": "575a059d-a849-449e-8e11-72abc9c9fe2d"
      },
      "outputs": [],
      "source": [
        "from diffusers import DDPMScheduler\n",
        "\n",
        "noise_scheduler = DDPMScheduler(num_train_timesteps=1000)"
      ]
    },
    {
      "cell_type": "markdown",
      "id": "a05507ad-0898-4e36-891a-03d88e8cfb10",
      "metadata": {
        "id": "a05507ad-0898-4e36-891a-03d88e8cfb10"
      },
      "source": [
        "Let's see how this noise scheduler works: it takes a batch of images from the trainng set (here we will reuse the batch of one image `sample_image` form before), a batch of random noise of the same shape and the timesteps for each image (which correspond to the number of times we want to apply noise to each image):"
      ]
    },
    {
      "cell_type": "code",
      "execution_count": null,
      "id": "SWIDblOdu4Sg",
      "metadata": {
        "colab": {
          "base_uri": "https://localhost:8080/",
          "height": 211
        },
        "id": "SWIDblOdu4Sg",
        "outputId": "d3ae2d3d-0929-49f6-b129-14c517b7af2a"
      },
      "outputs": [],
      "source": [
        "import torch\n",
        "from PIL import Image\n",
        "\n",
        "noise = torch.randn(sample_image.shape)\n",
        "timesteps = torch.LongTensor([50])\n",
        "noisy_image = noise_scheduler.add_noise(sample_image, noise, timesteps)\n",
        "\n",
        "Image.fromarray(((noisy_image.permute(0, 2, 3, 1) + 1.0) * 127.5).type(torch.uint8).numpy()[0])"
      ]
    },
    {
      "cell_type": "markdown",
      "id": "QNLSQtrpvtcu",
      "metadata": {
        "id": "QNLSQtrpvtcu"
      },
      "source": [
        "In the DDPM algorithm, the training objective of the model is then to be able to predict the noise we used in `noise_scheduler.add_noise`, so the loss at this step would be:"
      ]
    },
    {
      "cell_type": "code",
      "execution_count": null,
      "id": "JsK5WWwvv8gM",
      "metadata": {
        "colab": {
          "base_uri": "https://localhost:8080/",
          "height": 176
        },
        "id": "JsK5WWwvv8gM",
        "outputId": "0f0b5b5a-0918-41e3-c172-d1dc9474c2ff"
      },
      "outputs": [],
      "source": [
        "import torch.nn.functional as F\n",
        "\n",
        "noise_pred = model(noisy_image, timesteps).sample\n",
        "loss = F.mse_loss(noise_pred, noise)"
      ]
    },
    {
      "cell_type": "markdown",
      "id": "6c293be5-367f-4606-9d9c-ac3783817ba9",
      "metadata": {
        "id": "6c293be5-367f-4606-9d9c-ac3783817ba9"
      },
      "source": [
        "## Setting up training\n",
        "\n",
        "We have all we need to be able to train our model! Let's use a standard AdamW optimizer:"
      ]
    },
    {
      "cell_type": "code",
      "execution_count": null,
      "id": "ddbb43de-6e4f-43f3-929c-aae82b1c648b",
      "metadata": {
        "id": "ddbb43de-6e4f-43f3-929c-aae82b1c648b"
      },
      "outputs": [],
      "source": [
        "optimizer = torch.optim.AdamW(model.parameters(), lr=config.learning_rate)"
      ]
    },
    {
      "cell_type": "markdown",
      "id": "AjyzINS3wWba",
      "metadata": {
        "id": "AjyzINS3wWba"
      },
      "source": [
        " And a cosine learning rate schedule:"
      ]
    },
    {
      "cell_type": "code",
      "execution_count": null,
      "id": "a60ae2a8-9e72-4be2-8954-b8532cf323ee",
      "metadata": {
        "id": "a60ae2a8-9e72-4be2-8954-b8532cf323ee"
      },
      "outputs": [],
      "source": [
        "from diffusers.optimization import get_cosine_schedule_with_warmup\n",
        "\n",
        "lr_scheduler = get_cosine_schedule_with_warmup(\n",
        "    optimizer=optimizer,\n",
        "    num_warmup_steps=config.lr_warmup_steps,\n",
        "    num_training_steps=(len(train_dataloader) * config.num_epochs),\n",
        ")"
      ]
    },
    {
      "cell_type": "markdown",
      "id": "67f9523b-2547-4706-955c-7621ea70a389",
      "metadata": {
        "id": "67f9523b-2547-4706-955c-7621ea70a389"
      },
      "source": [
        "To evaluate our model, we use the `DDPMPipeline` which is an easy way to perform end-to-end inference (see this notebook [TODO link] for more detail). We will use this pipeline to generate a batch of sample images and save it as a grid to the disk."
      ]
    },
    {
      "cell_type": "code",
      "execution_count": null,
      "id": "pwxUwlLBw-O1",
      "metadata": {
        "id": "pwxUwlLBw-O1"
      },
      "outputs": [],
      "source": [
        "from diffusers import DDPMPipeline\n",
        "\n",
        "import math\n",
        "\n",
        "def make_grid(images, rows, cols):\n",
        "    w, h = images[0].size\n",
        "    grid = Image.new('RGB', size=(cols*w, rows*h))\n",
        "    for i, image in enumerate(images):\n",
        "        grid.paste(image, box=(i%cols*w, i//cols*h))\n",
        "    return grid\n",
        "\n",
        "def evaluate(config, epoch, pipeline):\n",
        "    # Sample some images from random noise (this is the backward diffusion process).\n",
        "    # The default pipeline output type is `List[PIL.Image]`\n",
        "    images = pipeline(\n",
        "        batch_size = config.eval_batch_size,\n",
        "        generator=torch.manual_seed(config.seed),\n",
        "    ).images\n",
        "\n",
        "    # Make a grid out of the images\n",
        "    image_grid = make_grid(images, rows=4, cols=4)\n",
        "\n",
        "    # Save the images\n",
        "    test_dir = os.path.join(config.output_dir, \"samples\")\n",
        "    os.makedirs(test_dir, exist_ok=True)\n",
        "    image_grid.save(f\"{test_dir}/{epoch:04d}.png\")"
      ]
    },
    {
      "cell_type": "markdown",
      "id": "my90vVcmxU5V",
      "metadata": {
        "id": "my90vVcmxU5V"
      },
      "source": [
        "With this in end, we can group all together and write our training function. This just wraps the training step we saw in the previous section in a loop, using Accelerate for easy TensorBoard logging, gradient accumulation, mixed precision training and multi-GPUs or TPU training."
      ]
    },
    {
      "cell_type": "code",
      "execution_count": null,
      "id": "67640279-979b-490d-80fe-65673b94ae00",
      "metadata": {
        "id": "67640279-979b-490d-80fe-65673b94ae00"
      },
      "outputs": [],
      "source": [
        "from accelerate import Accelerator\n",
        "from huggingface_hub import HfFolder, Repository, whoami\n",
        "import lightning as L\n",
        "\n",
        "from tqdm import tqdm\n",
        "from pathlib import Path\n",
        "import os\n",
        "device = torch.device(\"cuda:0\" if torch.cuda.is_available() else \"cpu\")\n",
        "\n",
        "def get_full_repo_name(model_id: str, organization: str = None, token: str = None):\n",
        "    if token is None:\n",
        "        token = HfFolder.get_token()\n",
        "    if organization is None:\n",
        "        username = whoami(token)[\"name\"]\n",
        "        return f\"{username}/{model_id}\"\n",
        "    else:\n",
        "        return f\"{organization}/{model_id}\"\n",
        "\n",
        "def train_loop(config, model, noise_scheduler, optimizer, train_dataloader, lr_scheduler):\n",
        "    \n",
        "    # Initialize accelerator and tensorboard logging\n",
        "    fabric = L.Fabric(accelerator=\"cuda\", devices=2, strategy=\"ddp\", precision=\"16-mixed\")\n",
        "    fabric.launch()\n",
        "\n",
        "    # Prepare everything\n",
        "    # There is no specific order to remember, you just need to unpack the\n",
        "    # objects in the same order you gave them to the prepare method.\n",
        "\n",
        "    model, optimizer = fabric.setup(model, optimizer)\n",
        "    train_dataloader = fabric.setup_dataloaders(train_dataloader)\n",
        "\n",
        "    global_step = 0\n",
        "\n",
        "    # Now you train the model\n",
        "    for epoch in range(config.num_epochs):\n",
        "        #progress_bar = tqdm(total=len(train_dataloader), disable=not accelerator.is_local_main_process)\n",
        "        #progress_bar.set_description(f\"Epoch {epoch}\")\n",
        "\n",
        "        for batch in tqdm(train_dataloader, desc=\"Training\"):\n",
        "            clean_images = batch['images']\n",
        "            # Sample noise to add to the images\n",
        "            noise = torch.randn(clean_images.shape).to(clean_images.device)\n",
        "            bs = clean_images.shape[0]\n",
        "\n",
        "            # Sample a random timestep for each image\n",
        "            timesteps = torch.randint(0, noise_scheduler.num_train_timesteps, (bs,), device=clean_images.device).long()\n",
        "\n",
        "            # Add noise to the clean images according to the noise magnitude at each timestep\n",
        "            # (this is the forward diffusion process)\n",
        "            noisy_images = noise_scheduler.add_noise(clean_images, noise, timesteps)\n",
        "            #noisy_images = noisy_images.to(\"cuda\")\n",
        "            #timesteps = timesteps.to(\"cuda\")\n",
        "\n",
        "            # Predict the noise residual\n",
        "            noise_pred = model(noisy_images, timesteps, return_dict=False)[0]\n",
        "            loss = F.mse_loss(noise_pred, noise)\n",
        "            fabric.backward(loss)\n",
        "            \n",
        "            #accelerator.clip_grad_norm_(model.parameters(), 1.0)\n",
        "            optimizer.step()\n",
        "            lr_scheduler.step()\n",
        "            optimizer.zero_grad()\n",
        "\n",
        "            #progress_bar.update(1)\n",
        "            logs = {\"loss\": loss.detach().item(), \"lr\": lr_scheduler.get_last_lr()[0], \"step\": global_step}\n",
        "            #progress_bar.set_postfix(**logs)\n",
        "            #accelerator.log(logs, step=global_step)\n",
        "            global_step += 1\n",
        "\n",
        "       \n",
        "        pipeline = DDPMPipeline(unet=model.module, scheduler=noise_scheduler)\n",
        "        if (epoch + 1) % config.save_image_epochs == 0 or epoch == config.num_epochs - 1:\n",
        "            evaluate(config, epoch, pipeline)\n",
        "        if (epoch + 1) % config.save_model_epochs == 0 or epoch == config.num_epochs - 1:\n",
        "                pipeline.save_pretrained(config.output_dir)"
      ]
    },
    {
      "cell_type": "code",
      "execution_count": 39,
      "id": "fc276258",
      "metadata": {},
      "outputs": [],
      "source": [
        "os.environ['MASTER_ADDR'] = 'localhost'  # or the IP address of the master node\n",
        "os.environ['MASTER_PORT'] = '12355'  # choose an open port\n",
        "\n",
        "torch.distributed.init_process_group(backend=\"gloo\", rank=0, world_size=1)"
      ]
    },
    {
      "cell_type": "code",
      "execution_count": 33,
      "id": "32026337",
      "metadata": {},
      "outputs": [
        {
          "data": {
            "text/plain": [
              "True"
            ]
          },
          "execution_count": 33,
          "metadata": {},
          "output_type": "execute_result"
        }
      ],
      "source": [
        "torch.distributed.is_available()"
      ]
    },
    {
      "cell_type": "code",
      "execution_count": 40,
      "id": "658084ee",
      "metadata": {},
      "outputs": [
        {
          "name": "stderr",
          "output_type": "stream",
          "text": [
            "Using 16-bit Automatic Mixed Precision (AMP)\n"
          ]
        },
        {
          "ename": "RuntimeError",
          "evalue": "`Fabric(strategy='ddp')` is not compatible with an interactive environment. Run your code as a script, or choose one of the compatible strategies: `Fabric(strategy='dp'|'ddp_notebook')`. In case you are spawning processes yourself, make sure to include the Fabric creation inside the worker function.",
          "output_type": "error",
          "traceback": [
            "\u001b[1;31m---------------------------------------------------------------------------\u001b[0m",
            "\u001b[1;31mRuntimeError\u001b[0m                              Traceback (most recent call last)",
            "Cell \u001b[1;32mIn[40], line 1\u001b[0m\n\u001b[1;32m----> 1\u001b[0m \u001b[43mtrain_loop\u001b[49m\u001b[43m(\u001b[49m\u001b[43mconfig\u001b[49m\u001b[43m,\u001b[49m\u001b[43m \u001b[49m\u001b[43mmodel\u001b[49m\u001b[43m,\u001b[49m\u001b[43m \u001b[49m\u001b[43mnoise_scheduler\u001b[49m\u001b[43m,\u001b[49m\u001b[43m \u001b[49m\u001b[43moptimizer\u001b[49m\u001b[43m,\u001b[49m\u001b[43m \u001b[49m\u001b[43mtrain_dataloader\u001b[49m\u001b[43m,\u001b[49m\u001b[43m \u001b[49m\u001b[43mlr_scheduler\u001b[49m\u001b[43m)\u001b[49m\n",
            "Cell \u001b[1;32mIn[31], line 22\u001b[0m, in \u001b[0;36mtrain_loop\u001b[1;34m(config, model, noise_scheduler, optimizer, train_dataloader, lr_scheduler)\u001b[0m\n\u001b[0;32m     19\u001b[0m \u001b[38;5;28;01mdef\u001b[39;00m \u001b[38;5;21mtrain_loop\u001b[39m(config, model, noise_scheduler, optimizer, train_dataloader, lr_scheduler):\n\u001b[0;32m     20\u001b[0m     \n\u001b[0;32m     21\u001b[0m     \u001b[38;5;66;03m# Initialize accelerator and tensorboard logging\u001b[39;00m\n\u001b[1;32m---> 22\u001b[0m     fabric \u001b[38;5;241m=\u001b[39m \u001b[43mL\u001b[49m\u001b[38;5;241;43m.\u001b[39;49m\u001b[43mFabric\u001b[49m\u001b[43m(\u001b[49m\u001b[43maccelerator\u001b[49m\u001b[38;5;241;43m=\u001b[39;49m\u001b[38;5;124;43m\"\u001b[39;49m\u001b[38;5;124;43mcuda\u001b[39;49m\u001b[38;5;124;43m\"\u001b[39;49m\u001b[43m,\u001b[49m\u001b[43m \u001b[49m\u001b[43mdevices\u001b[49m\u001b[38;5;241;43m=\u001b[39;49m\u001b[38;5;241;43m2\u001b[39;49m\u001b[43m,\u001b[49m\u001b[43m \u001b[49m\u001b[43mstrategy\u001b[49m\u001b[38;5;241;43m=\u001b[39;49m\u001b[38;5;124;43m\"\u001b[39;49m\u001b[38;5;124;43mddp\u001b[39;49m\u001b[38;5;124;43m\"\u001b[39;49m\u001b[43m,\u001b[49m\u001b[43m \u001b[49m\u001b[43mprecision\u001b[49m\u001b[38;5;241;43m=\u001b[39;49m\u001b[38;5;124;43m\"\u001b[39;49m\u001b[38;5;124;43m16-mixed\u001b[39;49m\u001b[38;5;124;43m\"\u001b[39;49m\u001b[43m)\u001b[49m\n\u001b[0;32m     23\u001b[0m     fabric\u001b[38;5;241m.\u001b[39mlaunch()\n\u001b[0;32m     25\u001b[0m     \u001b[38;5;66;03m# Prepare everything\u001b[39;00m\n\u001b[0;32m     26\u001b[0m     \u001b[38;5;66;03m# There is no specific order to remember, you just need to unpack the\u001b[39;00m\n\u001b[0;32m     27\u001b[0m     \u001b[38;5;66;03m# objects in the same order you gave them to the prepare method.\u001b[39;00m\n",
            "File \u001b[1;32mc:\\Users\\sysgen\\.conda\\envs\\diffusion\\lib\\site-packages\\lightning\\fabric\\fabric.py:128\u001b[0m, in \u001b[0;36mFabric.__init__\u001b[1;34m(self, accelerator, strategy, devices, num_nodes, precision, plugins, callbacks, loggers)\u001b[0m\n\u001b[0;32m    116\u001b[0m \u001b[38;5;28;01mdef\u001b[39;00m \u001b[38;5;21m__init__\u001b[39m(\n\u001b[0;32m    117\u001b[0m     \u001b[38;5;28mself\u001b[39m,\n\u001b[0;32m    118\u001b[0m     \u001b[38;5;241m*\u001b[39m,\n\u001b[1;32m   (...)\u001b[0m\n\u001b[0;32m    126\u001b[0m     loggers: Optional[Union[Logger, List[Logger]]] \u001b[38;5;241m=\u001b[39m \u001b[38;5;28;01mNone\u001b[39;00m,\n\u001b[0;32m    127\u001b[0m ) \u001b[38;5;241m-\u001b[39m\u001b[38;5;241m>\u001b[39m \u001b[38;5;28;01mNone\u001b[39;00m:\n\u001b[1;32m--> 128\u001b[0m     \u001b[38;5;28mself\u001b[39m\u001b[38;5;241m.\u001b[39m_connector \u001b[38;5;241m=\u001b[39m \u001b[43m_Connector\u001b[49m\u001b[43m(\u001b[49m\n\u001b[0;32m    129\u001b[0m \u001b[43m        \u001b[49m\u001b[43maccelerator\u001b[49m\u001b[38;5;241;43m=\u001b[39;49m\u001b[43maccelerator\u001b[49m\u001b[43m,\u001b[49m\n\u001b[0;32m    130\u001b[0m \u001b[43m        \u001b[49m\u001b[43mstrategy\u001b[49m\u001b[38;5;241;43m=\u001b[39;49m\u001b[43mstrategy\u001b[49m\u001b[43m,\u001b[49m\n\u001b[0;32m    131\u001b[0m \u001b[43m        \u001b[49m\u001b[43mdevices\u001b[49m\u001b[38;5;241;43m=\u001b[39;49m\u001b[43mdevices\u001b[49m\u001b[43m,\u001b[49m\n\u001b[0;32m    132\u001b[0m \u001b[43m        \u001b[49m\u001b[43mnum_nodes\u001b[49m\u001b[38;5;241;43m=\u001b[39;49m\u001b[43mnum_nodes\u001b[49m\u001b[43m,\u001b[49m\n\u001b[0;32m    133\u001b[0m \u001b[43m        \u001b[49m\u001b[43mprecision\u001b[49m\u001b[38;5;241;43m=\u001b[39;49m\u001b[43mprecision\u001b[49m\u001b[43m,\u001b[49m\n\u001b[0;32m    134\u001b[0m \u001b[43m        \u001b[49m\u001b[43mplugins\u001b[49m\u001b[38;5;241;43m=\u001b[39;49m\u001b[43mplugins\u001b[49m\u001b[43m,\u001b[49m\n\u001b[0;32m    135\u001b[0m \u001b[43m    \u001b[49m\u001b[43m)\u001b[49m\n\u001b[0;32m    136\u001b[0m     \u001b[38;5;28mself\u001b[39m\u001b[38;5;241m.\u001b[39m_strategy: Strategy \u001b[38;5;241m=\u001b[39m \u001b[38;5;28mself\u001b[39m\u001b[38;5;241m.\u001b[39m_connector\u001b[38;5;241m.\u001b[39mstrategy\n\u001b[0;32m    137\u001b[0m     \u001b[38;5;28mself\u001b[39m\u001b[38;5;241m.\u001b[39m_accelerator: Accelerator \u001b[38;5;241m=\u001b[39m \u001b[38;5;28mself\u001b[39m\u001b[38;5;241m.\u001b[39m_connector\u001b[38;5;241m.\u001b[39maccelerator\n",
            "File \u001b[1;32mc:\\Users\\sysgen\\.conda\\envs\\diffusion\\lib\\site-packages\\lightning\\fabric\\connector.py:161\u001b[0m, in \u001b[0;36m_Connector.__init__\u001b[1;34m(self, accelerator, strategy, devices, num_nodes, precision, plugins)\u001b[0m\n\u001b[0;32m    158\u001b[0m \u001b[38;5;28mself\u001b[39m\u001b[38;5;241m.\u001b[39mprecision \u001b[38;5;241m=\u001b[39m \u001b[38;5;28mself\u001b[39m\u001b[38;5;241m.\u001b[39m_check_and_init_precision()\n\u001b[0;32m    160\u001b[0m \u001b[38;5;66;03m# 6. Instantiate Strategy - Part 2\u001b[39;00m\n\u001b[1;32m--> 161\u001b[0m \u001b[38;5;28;43mself\u001b[39;49m\u001b[38;5;241;43m.\u001b[39;49m\u001b[43m_lazy_init_strategy\u001b[49m\u001b[43m(\u001b[49m\u001b[43m)\u001b[49m\n",
            "File \u001b[1;32mc:\\Users\\sysgen\\.conda\\envs\\diffusion\\lib\\site-packages\\lightning\\fabric\\connector.py:523\u001b[0m, in \u001b[0;36m_Connector._lazy_init_strategy\u001b[1;34m(self)\u001b[0m\n\u001b[0;32m    520\u001b[0m \u001b[38;5;28mself\u001b[39m\u001b[38;5;241m.\u001b[39mstrategy\u001b[38;5;241m.\u001b[39m_configure_launcher()\n\u001b[0;32m    522\u001b[0m \u001b[38;5;28;01mif\u001b[39;00m _IS_INTERACTIVE \u001b[38;5;129;01mand\u001b[39;00m \u001b[38;5;28mself\u001b[39m\u001b[38;5;241m.\u001b[39mstrategy\u001b[38;5;241m.\u001b[39mlauncher \u001b[38;5;129;01mand\u001b[39;00m \u001b[38;5;129;01mnot\u001b[39;00m \u001b[38;5;28mself\u001b[39m\u001b[38;5;241m.\u001b[39mstrategy\u001b[38;5;241m.\u001b[39mlauncher\u001b[38;5;241m.\u001b[39mis_interactive_compatible:\n\u001b[1;32m--> 523\u001b[0m     \u001b[38;5;28;01mraise\u001b[39;00m \u001b[38;5;167;01mRuntimeError\u001b[39;00m(\n\u001b[0;32m    524\u001b[0m         \u001b[38;5;124mf\u001b[39m\u001b[38;5;124m\"\u001b[39m\u001b[38;5;124m`Fabric(strategy=\u001b[39m\u001b[38;5;132;01m{\u001b[39;00m\u001b[38;5;28mself\u001b[39m\u001b[38;5;241m.\u001b[39m_strategy_flag\u001b[38;5;132;01m!r}\u001b[39;00m\u001b[38;5;124m)` is not compatible with an interactive\u001b[39m\u001b[38;5;124m\"\u001b[39m\n\u001b[0;32m    525\u001b[0m         \u001b[38;5;124m\"\u001b[39m\u001b[38;5;124m environment. Run your code as a script, or choose one of the compatible strategies:\u001b[39m\u001b[38;5;124m\"\u001b[39m\n\u001b[0;32m    526\u001b[0m         \u001b[38;5;124mf\u001b[39m\u001b[38;5;124m\"\u001b[39m\u001b[38;5;124m `Fabric(strategy=\u001b[39m\u001b[38;5;124m'\u001b[39m\u001b[38;5;124mdp\u001b[39m\u001b[38;5;124m'\u001b[39m\u001b[38;5;124m|\u001b[39m\u001b[38;5;124m'\u001b[39m\u001b[38;5;124mddp_notebook\u001b[39m\u001b[38;5;124m'\u001b[39m\u001b[38;5;124m)`.\u001b[39m\u001b[38;5;124m\"\u001b[39m\n\u001b[0;32m    527\u001b[0m         \u001b[38;5;124m\"\u001b[39m\u001b[38;5;124m In case you are spawning processes yourself, make sure to include the Fabric\u001b[39m\u001b[38;5;124m\"\u001b[39m\n\u001b[0;32m    528\u001b[0m         \u001b[38;5;124m\"\u001b[39m\u001b[38;5;124m creation inside the worker function.\u001b[39m\u001b[38;5;124m\"\u001b[39m\n\u001b[0;32m    529\u001b[0m     )\n\u001b[0;32m    531\u001b[0m \u001b[38;5;66;03m# TODO: should be moved to _check_strategy_and_fallback().\u001b[39;00m\n\u001b[0;32m    532\u001b[0m \u001b[38;5;66;03m# Current test check precision first, so keep this check here to meet error order\u001b[39;00m\n\u001b[0;32m    533\u001b[0m \u001b[38;5;28;01mif\u001b[39;00m \u001b[38;5;28misinstance\u001b[39m(\u001b[38;5;28mself\u001b[39m\u001b[38;5;241m.\u001b[39maccelerator, XLAAccelerator) \u001b[38;5;129;01mand\u001b[39;00m \u001b[38;5;129;01mnot\u001b[39;00m \u001b[38;5;28misinstance\u001b[39m(\n\u001b[0;32m    534\u001b[0m     \u001b[38;5;28mself\u001b[39m\u001b[38;5;241m.\u001b[39mstrategy, (SingleDeviceXLAStrategy, XLAStrategy, XLAFSDPStrategy)\n\u001b[0;32m    535\u001b[0m ):\n",
            "\u001b[1;31mRuntimeError\u001b[0m: `Fabric(strategy='ddp')` is not compatible with an interactive environment. Run your code as a script, or choose one of the compatible strategies: `Fabric(strategy='dp'|'ddp_notebook')`. In case you are spawning processes yourself, make sure to include the Fabric creation inside the worker function."
          ]
        }
      ],
      "source": [
        "train_loop(config, model, noise_scheduler, optimizer, train_dataloader, lr_scheduler)"
      ]
    },
    {
      "cell_type": "markdown",
      "id": "69fbb01c-1d64-4496-a9f1-5799051c1032",
      "metadata": {
        "id": "69fbb01c-1d64-4496-a9f1-5799051c1032"
      },
      "source": [
        "## Let's train!\n",
        "\n",
        "Let's launch the training (including multi-GPU training) from the notebook using Accelerate's `notebook_launcher` function:"
      ]
    },
    {
      "cell_type": "code",
      "execution_count": null,
      "id": "Z8J9KgBv60ct",
      "metadata": {
        "colab": {
          "base_uri": "https://localhost:8080/"
        },
        "id": "Z8J9KgBv60ct",
        "outputId": "7b1d61a4-00ed-43ec-f5dd-08b789bbdd5e"
      },
      "outputs": [],
      "source": [
        "import torch\n",
        "if torch.cuda.is_available():\n",
        "    print(str(torch.cuda.device_count()) + \" GPUs are available\")\n",
        "    for i in range(torch.cuda.device_count()):\n",
        "        print(torch.cuda.get_device_properties(i).name)\n",
        "else:\n",
        "    print(\"GPU is not available\")"
      ]
    },
    {
      "cell_type": "code",
      "execution_count": null,
      "id": "d9141907",
      "metadata": {},
      "outputs": [],
      "source": [
        "from accelerate import Accelerator\n",
        "\n",
        "accelerator = Accelerator()\n",
        "accelerator.state.num_processes"
      ]
    },
    {
      "cell_type": "code",
      "execution_count": null,
      "id": "76400020",
      "metadata": {},
      "outputs": [],
      "source": [
        "Accelerator().state.distributed_type"
      ]
    },
    {
      "cell_type": "code",
      "execution_count": null,
      "id": "ffe45378",
      "metadata": {},
      "outputs": [],
      "source": [
        "from multiprocessing import get_context\n",
        "num_processes = 2\n",
        "pool = get_context(\"spawn\").Pool(num_processes)\n",
        "pool.close()"
      ]
    },
    {
      "cell_type": "code",
      "execution_count": null,
      "id": "4dc61a42",
      "metadata": {},
      "outputs": [],
      "source": [
        "del lr_scheduler"
      ]
    },
    {
      "cell_type": "code",
      "execution_count": null,
      "id": "b11ba8b7-eb8f-4e8e-88ae-6e4a2b68433e",
      "metadata": {
        "colab": {
          "base_uri": "https://localhost:8080/",
          "height": 1000,
          "referenced_widgets": [
            "0172155f4e0c47e3b1a1d803761cbb09",
            "4f357903c8f041328c92ca7400a2df28",
            "6e203e494c98490faedf0c68a5354a7b",
            "8c67761bb51d4110a18a22bfbdb504b2",
            "b62dd91a4d4c4b538ebda3beb426f92c",
            "5da704d8c4114690abc2b929066da553",
            "d91ded4557a8496fbf7f367a60adaec5",
            "a026665b8e4c427ca1a3b503aa640b82",
            "59fcc192ca644493aa4d7d5b61a81b68",
            "7e1e5d95f4964876ac5b52fbbe0862f5",
            "126906c206d5483193b607ab9411ac70"
          ]
        },
        "id": "b11ba8b7-eb8f-4e8e-88ae-6e4a2b68433e",
        "outputId": "f55b2e81-503f-4cf6-8d3e-cdc6afbb5a0f"
      },
      "outputs": [],
      "source": [
        "from accelerate import notebook_launcher\n",
        "args = (config, model, noise_scheduler, optimizer, train_dataloader, lr_scheduler)\n",
        "\n",
        "notebook_launcher(train_loop, args, num_processes=4, use_port=29501)"
      ]
    },
    {
      "cell_type": "code",
      "execution_count": null,
      "id": "3dff014c",
      "metadata": {},
      "outputs": [],
      "source": [
        "pickle.dump(config, \"output_file\")"
      ]
    },
    {
      "cell_type": "markdown",
      "id": "W6pK8RonfSu0",
      "metadata": {
        "id": "W6pK8RonfSu0"
      },
      "source": [
        "Let's have a look at the final image grid produced by the trained diffusion model:"
      ]
    },
    {
      "cell_type": "code",
      "execution_count": null,
      "id": "r5PM6vOQPISl",
      "metadata": {
        "colab": {
          "base_uri": "https://localhost:8080/",
          "height": 529
        },
        "id": "r5PM6vOQPISl",
        "outputId": "04592f17-0b64-403a-975a-aba72b966908"
      },
      "outputs": [],
      "source": [
        "import glob\n",
        "\n",
        "sample_images = sorted(glob.glob(f\"{config.output_dir}/samples/*.png\"))\n",
        "Image.open(sample_images[-1])"
      ]
    },
    {
      "cell_type": "markdown",
      "id": "smJeP67bF0yj",
      "metadata": {
        "id": "smJeP67bF0yj"
      },
      "source": [
        "Not bad! There's room for improvement of course, so feel free to play with the hyperparameters, model definition and image augmentations 🤗\n",
        "\n",
        "If you've chosen to upload the model to the Hugging Face Hub, its repository should now look like so:\n",
        "https://huggingface.co/anton-l/ddpm-butterflies-128/tree/main\n",
        "\n",
        "If you want to dive deeper into the code, we also have more advanced training scripts with features like Exponential Moving Average of model weights here:\n",
        "\n",
        "https://github.com/huggingface/diffusers/tree/main/examples"
      ]
    }
  ],
  "metadata": {
    "accelerator": "GPU",
    "colab": {
      "provenance": []
    },
    "gpuClass": "standard",
    "kernelspec": {
      "display_name": "Python 3 (ipykernel)",
      "language": "python",
      "name": "python3"
    },
    "language_info": {
      "codemirror_mode": {
        "name": "ipython",
        "version": 3
      },
      "file_extension": ".py",
      "mimetype": "text/x-python",
      "name": "python",
      "nbconvert_exporter": "python",
      "pygments_lexer": "ipython3",
      "version": "3.10.6"
    },
    "widgets": {
      "application/vnd.jupyter.widget-state+json": {
        "0172155f4e0c47e3b1a1d803761cbb09": {
          "model_module": "@jupyter-widgets/controls",
          "model_module_version": "2.0.0",
          "model_name": "HBoxModel",
          "state": {
            "_dom_classes": [],
            "_model_module": "@jupyter-widgets/controls",
            "_model_module_version": "2.0.0",
            "_model_name": "HBoxModel",
            "_view_count": null,
            "_view_module": "@jupyter-widgets/controls",
            "_view_module_version": "2.0.0",
            "_view_name": "HBoxView",
            "box_style": "",
            "children": [
              "IPY_MODEL_4f357903c8f041328c92ca7400a2df28",
              "IPY_MODEL_6e203e494c98490faedf0c68a5354a7b",
              "IPY_MODEL_8c67761bb51d4110a18a22bfbdb504b2"
            ],
            "layout": "IPY_MODEL_b62dd91a4d4c4b538ebda3beb426f92c",
            "tabbable": null,
            "tooltip": null
          }
        },
        "025cb8a89dbe4698a2b083977098bf45": {
          "model_module": "@jupyter-widgets/controls",
          "model_module_version": "2.0.0",
          "model_name": "ButtonModel",
          "state": {
            "_dom_classes": [],
            "_model_module": "@jupyter-widgets/controls",
            "_model_module_version": "2.0.0",
            "_model_name": "ButtonModel",
            "_view_count": null,
            "_view_module": "@jupyter-widgets/controls",
            "_view_module_version": "2.0.0",
            "_view_name": "ButtonView",
            "button_style": "",
            "description": "Login",
            "disabled": false,
            "icon": "",
            "layout": "IPY_MODEL_7b80b81c38ac40fca4767245dd7aaf45",
            "style": "IPY_MODEL_61a2cc463a0d4068a1a16569514c68c5",
            "tabbable": null,
            "tooltip": null
          }
        },
        "126906c206d5483193b607ab9411ac70": {
          "model_module": "@jupyter-widgets/controls",
          "model_module_version": "2.0.0",
          "model_name": "HTMLStyleModel",
          "state": {
            "_model_module": "@jupyter-widgets/controls",
            "_model_module_version": "2.0.0",
            "_model_name": "HTMLStyleModel",
            "_view_count": null,
            "_view_module": "@jupyter-widgets/base",
            "_view_module_version": "2.0.0",
            "_view_name": "StyleView",
            "background": null,
            "description_width": "",
            "font_size": null,
            "text_color": null
          }
        },
        "1a73c1ec883a4f2db974428e686e86b6": {
          "model_module": "@jupyter-widgets/controls",
          "model_module_version": "2.0.0",
          "model_name": "HTMLModel",
          "state": {
            "_dom_classes": [],
            "_model_module": "@jupyter-widgets/controls",
            "_model_module_version": "2.0.0",
            "_model_name": "HTMLModel",
            "_view_count": null,
            "_view_module": "@jupyter-widgets/controls",
            "_view_module_version": "2.0.0",
            "_view_name": "HTMLView",
            "description": "",
            "description_allow_html": false,
            "layout": "IPY_MODEL_afdc98339227417c8dc7a85532aea038",
            "placeholder": "​",
            "style": "IPY_MODEL_26502ceb6b104ee7a3eba433306adc87",
            "tabbable": null,
            "tooltip": null,
            "value": "<center> <img\nsrc=https://huggingface.co/front/assets/huggingface_logo-noborder.svg\nalt='Hugging Face'> <br> Copy a token from <a\nhref=\"https://huggingface.co/settings/tokens\" target=\"_blank\">your Hugging Face\ntokens page</a> and paste it below. <br> Immediately click login after copying\nyour token or it might be stored in plain text in this notebook file. </center>"
          }
        },
        "1bcfeca349fa4fcea511e8b7068f338d": {
          "model_module": "@jupyter-widgets/base",
          "model_module_version": "2.0.0",
          "model_name": "LayoutModel",
          "state": {
            "_model_module": "@jupyter-widgets/base",
            "_model_module_version": "2.0.0",
            "_model_name": "LayoutModel",
            "_view_count": null,
            "_view_module": "@jupyter-widgets/base",
            "_view_module_version": "2.0.0",
            "_view_name": "LayoutView",
            "align_content": null,
            "align_items": null,
            "align_self": null,
            "border_bottom": null,
            "border_left": null,
            "border_right": null,
            "border_top": null,
            "bottom": null,
            "display": null,
            "flex": null,
            "flex_flow": null,
            "grid_area": null,
            "grid_auto_columns": null,
            "grid_auto_flow": null,
            "grid_auto_rows": null,
            "grid_column": null,
            "grid_gap": null,
            "grid_row": null,
            "grid_template_areas": null,
            "grid_template_columns": null,
            "grid_template_rows": null,
            "height": null,
            "justify_content": null,
            "justify_items": null,
            "left": null,
            "margin": null,
            "max_height": null,
            "max_width": null,
            "min_height": null,
            "min_width": null,
            "object_fit": null,
            "object_position": null,
            "order": null,
            "overflow": null,
            "padding": null,
            "right": null,
            "top": null,
            "visibility": null,
            "width": null
          }
        },
        "25ca5fb08cc3490d8d78d88b427d3a60": {
          "model_module": "@jupyter-widgets/controls",
          "model_module_version": "2.0.0",
          "model_name": "HTMLStyleModel",
          "state": {
            "_model_module": "@jupyter-widgets/controls",
            "_model_module_version": "2.0.0",
            "_model_name": "HTMLStyleModel",
            "_view_count": null,
            "_view_module": "@jupyter-widgets/base",
            "_view_module_version": "2.0.0",
            "_view_name": "StyleView",
            "background": null,
            "description_width": "",
            "font_size": null,
            "text_color": null
          }
        },
        "26502ceb6b104ee7a3eba433306adc87": {
          "model_module": "@jupyter-widgets/controls",
          "model_module_version": "2.0.0",
          "model_name": "HTMLStyleModel",
          "state": {
            "_model_module": "@jupyter-widgets/controls",
            "_model_module_version": "2.0.0",
            "_model_name": "HTMLStyleModel",
            "_view_count": null,
            "_view_module": "@jupyter-widgets/base",
            "_view_module_version": "2.0.0",
            "_view_name": "StyleView",
            "background": null,
            "description_width": "",
            "font_size": null,
            "text_color": null
          }
        },
        "2fc36d100ef54abd85bf81f3bad88a18": {
          "model_module": "@jupyter-widgets/base",
          "model_module_version": "2.0.0",
          "model_name": "LayoutModel",
          "state": {
            "_model_module": "@jupyter-widgets/base",
            "_model_module_version": "2.0.0",
            "_model_name": "LayoutModel",
            "_view_count": null,
            "_view_module": "@jupyter-widgets/base",
            "_view_module_version": "2.0.0",
            "_view_name": "LayoutView",
            "align_content": null,
            "align_items": null,
            "align_self": null,
            "border_bottom": null,
            "border_left": null,
            "border_right": null,
            "border_top": null,
            "bottom": null,
            "display": null,
            "flex": null,
            "flex_flow": null,
            "grid_area": null,
            "grid_auto_columns": null,
            "grid_auto_flow": null,
            "grid_auto_rows": null,
            "grid_column": null,
            "grid_gap": null,
            "grid_row": null,
            "grid_template_areas": null,
            "grid_template_columns": null,
            "grid_template_rows": null,
            "height": null,
            "justify_content": null,
            "justify_items": null,
            "left": null,
            "margin": null,
            "max_height": null,
            "max_width": null,
            "min_height": null,
            "min_width": null,
            "object_fit": null,
            "object_position": null,
            "order": null,
            "overflow": null,
            "padding": null,
            "right": null,
            "top": null,
            "visibility": null,
            "width": null
          }
        },
        "2fd8bec1923c4a5798f9a9a17cd28f46": {
          "model_module": "@jupyter-widgets/controls",
          "model_module_version": "2.0.0",
          "model_name": "TextStyleModel",
          "state": {
            "_model_module": "@jupyter-widgets/controls",
            "_model_module_version": "2.0.0",
            "_model_name": "TextStyleModel",
            "_view_count": null,
            "_view_module": "@jupyter-widgets/base",
            "_view_module_version": "2.0.0",
            "_view_name": "StyleView",
            "background": null,
            "description_width": "",
            "font_size": null,
            "text_color": null
          }
        },
        "37ad50eb28e1403ba3bc1b17ac3a894f": {
          "model_module": "@jupyter-widgets/controls",
          "model_module_version": "2.0.0",
          "model_name": "ButtonStyleModel",
          "state": {
            "_model_module": "@jupyter-widgets/controls",
            "_model_module_version": "2.0.0",
            "_model_name": "ButtonStyleModel",
            "_view_count": null,
            "_view_module": "@jupyter-widgets/base",
            "_view_module_version": "2.0.0",
            "_view_name": "StyleView",
            "button_color": null,
            "font_family": null,
            "font_size": null,
            "font_style": null,
            "font_variant": null,
            "font_weight": null,
            "text_color": null,
            "text_decoration": null
          }
        },
        "3cb27010cd0b4f05ae795e3b710ef7ae": {
          "model_module": "@jupyter-widgets/controls",
          "model_module_version": "2.0.0",
          "model_name": "HTMLStyleModel",
          "state": {
            "_model_module": "@jupyter-widgets/controls",
            "_model_module_version": "2.0.0",
            "_model_name": "HTMLStyleModel",
            "_view_count": null,
            "_view_module": "@jupyter-widgets/base",
            "_view_module_version": "2.0.0",
            "_view_name": "StyleView",
            "background": null,
            "description_width": "",
            "font_size": null,
            "text_color": null
          }
        },
        "48bce81a073b43e3bbf86226f790a857": {
          "model_module": "@jupyter-widgets/controls",
          "model_module_version": "2.0.0",
          "model_name": "HTMLModel",
          "state": {
            "_dom_classes": [],
            "_model_module": "@jupyter-widgets/controls",
            "_model_module_version": "2.0.0",
            "_model_name": "HTMLModel",
            "_view_count": null,
            "_view_module": "@jupyter-widgets/controls",
            "_view_module_version": "2.0.0",
            "_view_name": "HTMLView",
            "description": "",
            "description_allow_html": false,
            "layout": "IPY_MODEL_8ab2c33e8c7a41e89777f434f1ed6d47",
            "placeholder": "​",
            "style": "IPY_MODEL_25ca5fb08cc3490d8d78d88b427d3a60",
            "tabbable": null,
            "tooltip": null,
            "value": "\n<b>Pro Tip:</b> If you don't already have one, you can create a dedicated\n'notebooks' token with 'write' access, that you can then easily reuse for all\nnotebooks. </center>"
          }
        },
        "4f357903c8f041328c92ca7400a2df28": {
          "model_module": "@jupyter-widgets/controls",
          "model_module_version": "2.0.0",
          "model_name": "HTMLModel",
          "state": {
            "_dom_classes": [],
            "_model_module": "@jupyter-widgets/controls",
            "_model_module_version": "2.0.0",
            "_model_name": "HTMLModel",
            "_view_count": null,
            "_view_module": "@jupyter-widgets/controls",
            "_view_module_version": "2.0.0",
            "_view_name": "HTMLView",
            "description": "",
            "description_allow_html": false,
            "layout": "IPY_MODEL_5da704d8c4114690abc2b929066da553",
            "placeholder": "​",
            "style": "IPY_MODEL_d91ded4557a8496fbf7f367a60adaec5",
            "tabbable": null,
            "tooltip": null,
            "value": "Epoch 0:   0%"
          }
        },
        "52a2d5b1247c4da48b90f303be7ee054": {
          "model_module": "@jupyter-widgets/base",
          "model_module_version": "2.0.0",
          "model_name": "LayoutModel",
          "state": {
            "_model_module": "@jupyter-widgets/base",
            "_model_module_version": "2.0.0",
            "_model_name": "LayoutModel",
            "_view_count": null,
            "_view_module": "@jupyter-widgets/base",
            "_view_module_version": "2.0.0",
            "_view_name": "LayoutView",
            "align_content": null,
            "align_items": null,
            "align_self": null,
            "border_bottom": null,
            "border_left": null,
            "border_right": null,
            "border_top": null,
            "bottom": null,
            "display": null,
            "flex": null,
            "flex_flow": null,
            "grid_area": null,
            "grid_auto_columns": null,
            "grid_auto_flow": null,
            "grid_auto_rows": null,
            "grid_column": null,
            "grid_gap": null,
            "grid_row": null,
            "grid_template_areas": null,
            "grid_template_columns": null,
            "grid_template_rows": null,
            "height": null,
            "justify_content": null,
            "justify_items": null,
            "left": null,
            "margin": null,
            "max_height": null,
            "max_width": null,
            "min_height": null,
            "min_width": null,
            "object_fit": null,
            "object_position": null,
            "order": null,
            "overflow": null,
            "padding": null,
            "right": null,
            "top": null,
            "visibility": null,
            "width": null
          }
        },
        "59fcc192ca644493aa4d7d5b61a81b68": {
          "model_module": "@jupyter-widgets/controls",
          "model_module_version": "2.0.0",
          "model_name": "ProgressStyleModel",
          "state": {
            "_model_module": "@jupyter-widgets/controls",
            "_model_module_version": "2.0.0",
            "_model_name": "ProgressStyleModel",
            "_view_count": null,
            "_view_module": "@jupyter-widgets/base",
            "_view_module_version": "2.0.0",
            "_view_name": "StyleView",
            "bar_color": null,
            "description_width": ""
          }
        },
        "5da704d8c4114690abc2b929066da553": {
          "model_module": "@jupyter-widgets/base",
          "model_module_version": "2.0.0",
          "model_name": "LayoutModel",
          "state": {
            "_model_module": "@jupyter-widgets/base",
            "_model_module_version": "2.0.0",
            "_model_name": "LayoutModel",
            "_view_count": null,
            "_view_module": "@jupyter-widgets/base",
            "_view_module_version": "2.0.0",
            "_view_name": "LayoutView",
            "align_content": null,
            "align_items": null,
            "align_self": null,
            "border_bottom": null,
            "border_left": null,
            "border_right": null,
            "border_top": null,
            "bottom": null,
            "display": null,
            "flex": null,
            "flex_flow": null,
            "grid_area": null,
            "grid_auto_columns": null,
            "grid_auto_flow": null,
            "grid_auto_rows": null,
            "grid_column": null,
            "grid_gap": null,
            "grid_row": null,
            "grid_template_areas": null,
            "grid_template_columns": null,
            "grid_template_rows": null,
            "height": null,
            "justify_content": null,
            "justify_items": null,
            "left": null,
            "margin": null,
            "max_height": null,
            "max_width": null,
            "min_height": null,
            "min_width": null,
            "object_fit": null,
            "object_position": null,
            "order": null,
            "overflow": null,
            "padding": null,
            "right": null,
            "top": null,
            "visibility": null,
            "width": null
          }
        },
        "60e506051dcc491abc791904dd4dde9d": {
          "model_module": "@jupyter-widgets/controls",
          "model_module_version": "2.0.0",
          "model_name": "HTMLModel",
          "state": {
            "_dom_classes": [],
            "_model_module": "@jupyter-widgets/controls",
            "_model_module_version": "2.0.0",
            "_model_name": "HTMLModel",
            "_view_count": null,
            "_view_module": "@jupyter-widgets/controls",
            "_view_module_version": "2.0.0",
            "_view_name": "HTMLView",
            "description": "",
            "description_allow_html": false,
            "layout": "IPY_MODEL_a4d63edc96b347efbae37a5268dfae2f",
            "placeholder": "​",
            "style": "IPY_MODEL_84581be182154927a6944c16bb6e6de5",
            "tabbable": null,
            "tooltip": null,
            "value": "<center> <img\nsrc=https://huggingface.co/front/assets/huggingface_logo-noborder.svg\nalt='Hugging Face'> <br> Copy a token from <a\nhref=\"https://huggingface.co/settings/tokens\" target=\"_blank\">your Hugging Face\ntokens page</a> and paste it below. <br> Immediately click login after copying\nyour token or it might be stored in plain text in this notebook file. </center>"
          }
        },
        "61a2cc463a0d4068a1a16569514c68c5": {
          "model_module": "@jupyter-widgets/controls",
          "model_module_version": "2.0.0",
          "model_name": "ButtonStyleModel",
          "state": {
            "_model_module": "@jupyter-widgets/controls",
            "_model_module_version": "2.0.0",
            "_model_name": "ButtonStyleModel",
            "_view_count": null,
            "_view_module": "@jupyter-widgets/base",
            "_view_module_version": "2.0.0",
            "_view_name": "StyleView",
            "button_color": null,
            "font_family": null,
            "font_size": null,
            "font_style": null,
            "font_variant": null,
            "font_weight": null,
            "text_color": null,
            "text_decoration": null
          }
        },
        "6e203e494c98490faedf0c68a5354a7b": {
          "model_module": "@jupyter-widgets/controls",
          "model_module_version": "2.0.0",
          "model_name": "FloatProgressModel",
          "state": {
            "_dom_classes": [],
            "_model_module": "@jupyter-widgets/controls",
            "_model_module_version": "2.0.0",
            "_model_name": "FloatProgressModel",
            "_view_count": null,
            "_view_module": "@jupyter-widgets/controls",
            "_view_module_version": "2.0.0",
            "_view_name": "ProgressView",
            "bar_style": "",
            "description": "",
            "description_allow_html": false,
            "layout": "IPY_MODEL_a026665b8e4c427ca1a3b503aa640b82",
            "max": 512,
            "min": 0,
            "orientation": "horizontal",
            "style": "IPY_MODEL_59fcc192ca644493aa4d7d5b61a81b68",
            "tabbable": null,
            "tooltip": null,
            "value": 0
          }
        },
        "7111619bfb9b4289bcdd77471146aba0": {
          "model_module": "@jupyter-widgets/base",
          "model_module_version": "2.0.0",
          "model_name": "LayoutModel",
          "state": {
            "_model_module": "@jupyter-widgets/base",
            "_model_module_version": "2.0.0",
            "_model_name": "LayoutModel",
            "_view_count": null,
            "_view_module": "@jupyter-widgets/base",
            "_view_module_version": "2.0.0",
            "_view_name": "LayoutView",
            "align_content": null,
            "align_items": "center",
            "align_self": null,
            "border_bottom": null,
            "border_left": null,
            "border_right": null,
            "border_top": null,
            "bottom": null,
            "display": "flex",
            "flex": null,
            "flex_flow": "column",
            "grid_area": null,
            "grid_auto_columns": null,
            "grid_auto_flow": null,
            "grid_auto_rows": null,
            "grid_column": null,
            "grid_gap": null,
            "grid_row": null,
            "grid_template_areas": null,
            "grid_template_columns": null,
            "grid_template_rows": null,
            "height": null,
            "justify_content": null,
            "justify_items": null,
            "left": null,
            "margin": null,
            "max_height": null,
            "max_width": null,
            "min_height": null,
            "min_width": null,
            "object_fit": null,
            "object_position": null,
            "order": null,
            "overflow": null,
            "padding": null,
            "right": null,
            "top": null,
            "visibility": null,
            "width": "50%"
          }
        },
        "71469b511c004b51963edddfea7ff00a": {
          "model_module": "@jupyter-widgets/base",
          "model_module_version": "2.0.0",
          "model_name": "LayoutModel",
          "state": {
            "_model_module": "@jupyter-widgets/base",
            "_model_module_version": "2.0.0",
            "_model_name": "LayoutModel",
            "_view_count": null,
            "_view_module": "@jupyter-widgets/base",
            "_view_module_version": "2.0.0",
            "_view_name": "LayoutView",
            "align_content": null,
            "align_items": "center",
            "align_self": null,
            "border_bottom": null,
            "border_left": null,
            "border_right": null,
            "border_top": null,
            "bottom": null,
            "display": "flex",
            "flex": null,
            "flex_flow": "column",
            "grid_area": null,
            "grid_auto_columns": null,
            "grid_auto_flow": null,
            "grid_auto_rows": null,
            "grid_column": null,
            "grid_gap": null,
            "grid_row": null,
            "grid_template_areas": null,
            "grid_template_columns": null,
            "grid_template_rows": null,
            "height": null,
            "justify_content": null,
            "justify_items": null,
            "left": null,
            "margin": null,
            "max_height": null,
            "max_width": null,
            "min_height": null,
            "min_width": null,
            "object_fit": null,
            "object_position": null,
            "order": null,
            "overflow": null,
            "padding": null,
            "right": null,
            "top": null,
            "visibility": null,
            "width": "50%"
          }
        },
        "7b80b81c38ac40fca4767245dd7aaf45": {
          "model_module": "@jupyter-widgets/base",
          "model_module_version": "2.0.0",
          "model_name": "LayoutModel",
          "state": {
            "_model_module": "@jupyter-widgets/base",
            "_model_module_version": "2.0.0",
            "_model_name": "LayoutModel",
            "_view_count": null,
            "_view_module": "@jupyter-widgets/base",
            "_view_module_version": "2.0.0",
            "_view_name": "LayoutView",
            "align_content": null,
            "align_items": null,
            "align_self": null,
            "border_bottom": null,
            "border_left": null,
            "border_right": null,
            "border_top": null,
            "bottom": null,
            "display": null,
            "flex": null,
            "flex_flow": null,
            "grid_area": null,
            "grid_auto_columns": null,
            "grid_auto_flow": null,
            "grid_auto_rows": null,
            "grid_column": null,
            "grid_gap": null,
            "grid_row": null,
            "grid_template_areas": null,
            "grid_template_columns": null,
            "grid_template_rows": null,
            "height": null,
            "justify_content": null,
            "justify_items": null,
            "left": null,
            "margin": null,
            "max_height": null,
            "max_width": null,
            "min_height": null,
            "min_width": null,
            "object_fit": null,
            "object_position": null,
            "order": null,
            "overflow": null,
            "padding": null,
            "right": null,
            "top": null,
            "visibility": null,
            "width": null
          }
        },
        "7bb9c1084e464b16b44986954e77a09c": {
          "model_module": "@jupyter-widgets/controls",
          "model_module_version": "2.0.0",
          "model_name": "HTMLModel",
          "state": {
            "_dom_classes": [],
            "_model_module": "@jupyter-widgets/controls",
            "_model_module_version": "2.0.0",
            "_model_name": "HTMLModel",
            "_view_count": null,
            "_view_module": "@jupyter-widgets/controls",
            "_view_module_version": "2.0.0",
            "_view_name": "HTMLView",
            "description": "",
            "description_allow_html": false,
            "layout": "IPY_MODEL_52a2d5b1247c4da48b90f303be7ee054",
            "placeholder": "​",
            "style": "IPY_MODEL_3cb27010cd0b4f05ae795e3b710ef7ae",
            "tabbable": null,
            "tooltip": null,
            "value": "\n<b>Pro Tip:</b> If you don't already have one, you can create a dedicated\n'notebooks' token with 'write' access, that you can then easily reuse for all\nnotebooks. </center>"
          }
        },
        "7e1e5d95f4964876ac5b52fbbe0862f5": {
          "model_module": "@jupyter-widgets/base",
          "model_module_version": "2.0.0",
          "model_name": "LayoutModel",
          "state": {
            "_model_module": "@jupyter-widgets/base",
            "_model_module_version": "2.0.0",
            "_model_name": "LayoutModel",
            "_view_count": null,
            "_view_module": "@jupyter-widgets/base",
            "_view_module_version": "2.0.0",
            "_view_name": "LayoutView",
            "align_content": null,
            "align_items": null,
            "align_self": null,
            "border_bottom": null,
            "border_left": null,
            "border_right": null,
            "border_top": null,
            "bottom": null,
            "display": null,
            "flex": null,
            "flex_flow": null,
            "grid_area": null,
            "grid_auto_columns": null,
            "grid_auto_flow": null,
            "grid_auto_rows": null,
            "grid_column": null,
            "grid_gap": null,
            "grid_row": null,
            "grid_template_areas": null,
            "grid_template_columns": null,
            "grid_template_rows": null,
            "height": null,
            "justify_content": null,
            "justify_items": null,
            "left": null,
            "margin": null,
            "max_height": null,
            "max_width": null,
            "min_height": null,
            "min_width": null,
            "object_fit": null,
            "object_position": null,
            "order": null,
            "overflow": null,
            "padding": null,
            "right": null,
            "top": null,
            "visibility": null,
            "width": null
          }
        },
        "83c33125bc2a4c56b0473e19b9c51826": {
          "model_module": "@jupyter-widgets/controls",
          "model_module_version": "2.0.0",
          "model_name": "PasswordModel",
          "state": {
            "_dom_classes": [],
            "_model_module": "@jupyter-widgets/controls",
            "_model_module_version": "2.0.0",
            "_model_name": "PasswordModel",
            "_view_count": null,
            "_view_module": "@jupyter-widgets/controls",
            "_view_module_version": "2.0.0",
            "_view_name": "PasswordView",
            "continuous_update": true,
            "description": "Token:",
            "description_allow_html": false,
            "disabled": false,
            "layout": "IPY_MODEL_2fc36d100ef54abd85bf81f3bad88a18",
            "placeholder": "​",
            "style": "IPY_MODEL_2fd8bec1923c4a5798f9a9a17cd28f46",
            "tabbable": null,
            "tooltip": null,
            "value": ""
          }
        },
        "84581be182154927a6944c16bb6e6de5": {
          "model_module": "@jupyter-widgets/controls",
          "model_module_version": "2.0.0",
          "model_name": "HTMLStyleModel",
          "state": {
            "_model_module": "@jupyter-widgets/controls",
            "_model_module_version": "2.0.0",
            "_model_name": "HTMLStyleModel",
            "_view_count": null,
            "_view_module": "@jupyter-widgets/base",
            "_view_module_version": "2.0.0",
            "_view_name": "StyleView",
            "background": null,
            "description_width": "",
            "font_size": null,
            "text_color": null
          }
        },
        "8892aae8615f4a6b89ddc61a330d83dc": {
          "model_module": "@jupyter-widgets/controls",
          "model_module_version": "2.0.0",
          "model_name": "ButtonModel",
          "state": {
            "_dom_classes": [],
            "_model_module": "@jupyter-widgets/controls",
            "_model_module_version": "2.0.0",
            "_model_name": "ButtonModel",
            "_view_count": null,
            "_view_module": "@jupyter-widgets/controls",
            "_view_module_version": "2.0.0",
            "_view_name": "ButtonView",
            "button_style": "",
            "description": "Login",
            "disabled": false,
            "icon": "",
            "layout": "IPY_MODEL_c1031c8e315940869db6844417ae2de6",
            "style": "IPY_MODEL_37ad50eb28e1403ba3bc1b17ac3a894f",
            "tabbable": null,
            "tooltip": null
          }
        },
        "8ab2c33e8c7a41e89777f434f1ed6d47": {
          "model_module": "@jupyter-widgets/base",
          "model_module_version": "2.0.0",
          "model_name": "LayoutModel",
          "state": {
            "_model_module": "@jupyter-widgets/base",
            "_model_module_version": "2.0.0",
            "_model_name": "LayoutModel",
            "_view_count": null,
            "_view_module": "@jupyter-widgets/base",
            "_view_module_version": "2.0.0",
            "_view_name": "LayoutView",
            "align_content": null,
            "align_items": null,
            "align_self": null,
            "border_bottom": null,
            "border_left": null,
            "border_right": null,
            "border_top": null,
            "bottom": null,
            "display": null,
            "flex": null,
            "flex_flow": null,
            "grid_area": null,
            "grid_auto_columns": null,
            "grid_auto_flow": null,
            "grid_auto_rows": null,
            "grid_column": null,
            "grid_gap": null,
            "grid_row": null,
            "grid_template_areas": null,
            "grid_template_columns": null,
            "grid_template_rows": null,
            "height": null,
            "justify_content": null,
            "justify_items": null,
            "left": null,
            "margin": null,
            "max_height": null,
            "max_width": null,
            "min_height": null,
            "min_width": null,
            "object_fit": null,
            "object_position": null,
            "order": null,
            "overflow": null,
            "padding": null,
            "right": null,
            "top": null,
            "visibility": null,
            "width": null
          }
        },
        "8bc1610027d64d118ce155412d49e20a": {
          "model_module": "@jupyter-widgets/controls",
          "model_module_version": "2.0.0",
          "model_name": "TextStyleModel",
          "state": {
            "_model_module": "@jupyter-widgets/controls",
            "_model_module_version": "2.0.0",
            "_model_name": "TextStyleModel",
            "_view_count": null,
            "_view_module": "@jupyter-widgets/base",
            "_view_module_version": "2.0.0",
            "_view_name": "StyleView",
            "background": null,
            "description_width": "",
            "font_size": null,
            "text_color": null
          }
        },
        "8c67761bb51d4110a18a22bfbdb504b2": {
          "model_module": "@jupyter-widgets/controls",
          "model_module_version": "2.0.0",
          "model_name": "HTMLModel",
          "state": {
            "_dom_classes": [],
            "_model_module": "@jupyter-widgets/controls",
            "_model_module_version": "2.0.0",
            "_model_name": "HTMLModel",
            "_view_count": null,
            "_view_module": "@jupyter-widgets/controls",
            "_view_module_version": "2.0.0",
            "_view_name": "HTMLView",
            "description": "",
            "description_allow_html": false,
            "layout": "IPY_MODEL_7e1e5d95f4964876ac5b52fbbe0862f5",
            "placeholder": "​",
            "style": "IPY_MODEL_126906c206d5483193b607ab9411ac70",
            "tabbable": null,
            "tooltip": null,
            "value": " 0/512 [00:00&lt;?, ?it/s]"
          }
        },
        "a026665b8e4c427ca1a3b503aa640b82": {
          "model_module": "@jupyter-widgets/base",
          "model_module_version": "2.0.0",
          "model_name": "LayoutModel",
          "state": {
            "_model_module": "@jupyter-widgets/base",
            "_model_module_version": "2.0.0",
            "_model_name": "LayoutModel",
            "_view_count": null,
            "_view_module": "@jupyter-widgets/base",
            "_view_module_version": "2.0.0",
            "_view_name": "LayoutView",
            "align_content": null,
            "align_items": null,
            "align_self": null,
            "border_bottom": null,
            "border_left": null,
            "border_right": null,
            "border_top": null,
            "bottom": null,
            "display": null,
            "flex": null,
            "flex_flow": null,
            "grid_area": null,
            "grid_auto_columns": null,
            "grid_auto_flow": null,
            "grid_auto_rows": null,
            "grid_column": null,
            "grid_gap": null,
            "grid_row": null,
            "grid_template_areas": null,
            "grid_template_columns": null,
            "grid_template_rows": null,
            "height": null,
            "justify_content": null,
            "justify_items": null,
            "left": null,
            "margin": null,
            "max_height": null,
            "max_width": null,
            "min_height": null,
            "min_width": null,
            "object_fit": null,
            "object_position": null,
            "order": null,
            "overflow": null,
            "padding": null,
            "right": null,
            "top": null,
            "visibility": null,
            "width": null
          }
        },
        "a260eb806f8b41ae819f2b20b7ef5c5d": {
          "model_module": "@jupyter-widgets/controls",
          "model_module_version": "2.0.0",
          "model_name": "VBoxModel",
          "state": {
            "_dom_classes": [],
            "_model_module": "@jupyter-widgets/controls",
            "_model_module_version": "2.0.0",
            "_model_name": "VBoxModel",
            "_view_count": null,
            "_view_module": "@jupyter-widgets/controls",
            "_view_module_version": "2.0.0",
            "_view_name": "VBoxView",
            "box_style": "",
            "children": [
              "IPY_MODEL_60e506051dcc491abc791904dd4dde9d",
              "IPY_MODEL_83c33125bc2a4c56b0473e19b9c51826",
              "IPY_MODEL_d465114837f3480cb2364cd01fdad3ba",
              "IPY_MODEL_025cb8a89dbe4698a2b083977098bf45",
              "IPY_MODEL_48bce81a073b43e3bbf86226f790a857"
            ],
            "layout": "IPY_MODEL_71469b511c004b51963edddfea7ff00a",
            "tabbable": null,
            "tooltip": null
          }
        },
        "a4d63edc96b347efbae37a5268dfae2f": {
          "model_module": "@jupyter-widgets/base",
          "model_module_version": "2.0.0",
          "model_name": "LayoutModel",
          "state": {
            "_model_module": "@jupyter-widgets/base",
            "_model_module_version": "2.0.0",
            "_model_name": "LayoutModel",
            "_view_count": null,
            "_view_module": "@jupyter-widgets/base",
            "_view_module_version": "2.0.0",
            "_view_name": "LayoutView",
            "align_content": null,
            "align_items": null,
            "align_self": null,
            "border_bottom": null,
            "border_left": null,
            "border_right": null,
            "border_top": null,
            "bottom": null,
            "display": null,
            "flex": null,
            "flex_flow": null,
            "grid_area": null,
            "grid_auto_columns": null,
            "grid_auto_flow": null,
            "grid_auto_rows": null,
            "grid_column": null,
            "grid_gap": null,
            "grid_row": null,
            "grid_template_areas": null,
            "grid_template_columns": null,
            "grid_template_rows": null,
            "height": null,
            "justify_content": null,
            "justify_items": null,
            "left": null,
            "margin": null,
            "max_height": null,
            "max_width": null,
            "min_height": null,
            "min_width": null,
            "object_fit": null,
            "object_position": null,
            "order": null,
            "overflow": null,
            "padding": null,
            "right": null,
            "top": null,
            "visibility": null,
            "width": null
          }
        },
        "afdc98339227417c8dc7a85532aea038": {
          "model_module": "@jupyter-widgets/base",
          "model_module_version": "2.0.0",
          "model_name": "LayoutModel",
          "state": {
            "_model_module": "@jupyter-widgets/base",
            "_model_module_version": "2.0.0",
            "_model_name": "LayoutModel",
            "_view_count": null,
            "_view_module": "@jupyter-widgets/base",
            "_view_module_version": "2.0.0",
            "_view_name": "LayoutView",
            "align_content": null,
            "align_items": null,
            "align_self": null,
            "border_bottom": null,
            "border_left": null,
            "border_right": null,
            "border_top": null,
            "bottom": null,
            "display": null,
            "flex": null,
            "flex_flow": null,
            "grid_area": null,
            "grid_auto_columns": null,
            "grid_auto_flow": null,
            "grid_auto_rows": null,
            "grid_column": null,
            "grid_gap": null,
            "grid_row": null,
            "grid_template_areas": null,
            "grid_template_columns": null,
            "grid_template_rows": null,
            "height": null,
            "justify_content": null,
            "justify_items": null,
            "left": null,
            "margin": null,
            "max_height": null,
            "max_width": null,
            "min_height": null,
            "min_width": null,
            "object_fit": null,
            "object_position": null,
            "order": null,
            "overflow": null,
            "padding": null,
            "right": null,
            "top": null,
            "visibility": null,
            "width": null
          }
        },
        "b1fb9539ba6d4d7cbd3e1f0c44b41188": {
          "model_module": "@jupyter-widgets/controls",
          "model_module_version": "2.0.0",
          "model_name": "CheckboxStyleModel",
          "state": {
            "_model_module": "@jupyter-widgets/controls",
            "_model_module_version": "2.0.0",
            "_model_name": "CheckboxStyleModel",
            "_view_count": null,
            "_view_module": "@jupyter-widgets/base",
            "_view_module_version": "2.0.0",
            "_view_name": "StyleView",
            "background": null,
            "description_width": ""
          }
        },
        "b62dd91a4d4c4b538ebda3beb426f92c": {
          "model_module": "@jupyter-widgets/base",
          "model_module_version": "2.0.0",
          "model_name": "LayoutModel",
          "state": {
            "_model_module": "@jupyter-widgets/base",
            "_model_module_version": "2.0.0",
            "_model_name": "LayoutModel",
            "_view_count": null,
            "_view_module": "@jupyter-widgets/base",
            "_view_module_version": "2.0.0",
            "_view_name": "LayoutView",
            "align_content": null,
            "align_items": null,
            "align_self": null,
            "border_bottom": null,
            "border_left": null,
            "border_right": null,
            "border_top": null,
            "bottom": null,
            "display": null,
            "flex": null,
            "flex_flow": null,
            "grid_area": null,
            "grid_auto_columns": null,
            "grid_auto_flow": null,
            "grid_auto_rows": null,
            "grid_column": null,
            "grid_gap": null,
            "grid_row": null,
            "grid_template_areas": null,
            "grid_template_columns": null,
            "grid_template_rows": null,
            "height": null,
            "justify_content": null,
            "justify_items": null,
            "left": null,
            "margin": null,
            "max_height": null,
            "max_width": null,
            "min_height": null,
            "min_width": null,
            "object_fit": null,
            "object_position": null,
            "order": null,
            "overflow": null,
            "padding": null,
            "right": null,
            "top": null,
            "visibility": null,
            "width": null
          }
        },
        "bb3cbaf37d9b471b888c4ba05b52be5d": {
          "model_module": "@jupyter-widgets/base",
          "model_module_version": "2.0.0",
          "model_name": "LayoutModel",
          "state": {
            "_model_module": "@jupyter-widgets/base",
            "_model_module_version": "2.0.0",
            "_model_name": "LayoutModel",
            "_view_count": null,
            "_view_module": "@jupyter-widgets/base",
            "_view_module_version": "2.0.0",
            "_view_name": "LayoutView",
            "align_content": null,
            "align_items": null,
            "align_self": null,
            "border_bottom": null,
            "border_left": null,
            "border_right": null,
            "border_top": null,
            "bottom": null,
            "display": null,
            "flex": null,
            "flex_flow": null,
            "grid_area": null,
            "grid_auto_columns": null,
            "grid_auto_flow": null,
            "grid_auto_rows": null,
            "grid_column": null,
            "grid_gap": null,
            "grid_row": null,
            "grid_template_areas": null,
            "grid_template_columns": null,
            "grid_template_rows": null,
            "height": null,
            "justify_content": null,
            "justify_items": null,
            "left": null,
            "margin": null,
            "max_height": null,
            "max_width": null,
            "min_height": null,
            "min_width": null,
            "object_fit": null,
            "object_position": null,
            "order": null,
            "overflow": null,
            "padding": null,
            "right": null,
            "top": null,
            "visibility": null,
            "width": null
          }
        },
        "c04188d703e54dd48534f64f14e27d88": {
          "model_module": "@jupyter-widgets/controls",
          "model_module_version": "2.0.0",
          "model_name": "VBoxModel",
          "state": {
            "_dom_classes": [],
            "_model_module": "@jupyter-widgets/controls",
            "_model_module_version": "2.0.0",
            "_model_name": "VBoxModel",
            "_view_count": null,
            "_view_module": "@jupyter-widgets/controls",
            "_view_module_version": "2.0.0",
            "_view_name": "VBoxView",
            "box_style": "",
            "children": [
              "IPY_MODEL_1a73c1ec883a4f2db974428e686e86b6",
              "IPY_MODEL_ee34e9c10b1945a4a9a6d533e68b1451",
              "IPY_MODEL_c4ba3d05a8b2440cb53189d16f2ccea9",
              "IPY_MODEL_8892aae8615f4a6b89ddc61a330d83dc",
              "IPY_MODEL_7bb9c1084e464b16b44986954e77a09c"
            ],
            "layout": "IPY_MODEL_7111619bfb9b4289bcdd77471146aba0",
            "tabbable": null,
            "tooltip": null
          }
        },
        "c1031c8e315940869db6844417ae2de6": {
          "model_module": "@jupyter-widgets/base",
          "model_module_version": "2.0.0",
          "model_name": "LayoutModel",
          "state": {
            "_model_module": "@jupyter-widgets/base",
            "_model_module_version": "2.0.0",
            "_model_name": "LayoutModel",
            "_view_count": null,
            "_view_module": "@jupyter-widgets/base",
            "_view_module_version": "2.0.0",
            "_view_name": "LayoutView",
            "align_content": null,
            "align_items": null,
            "align_self": null,
            "border_bottom": null,
            "border_left": null,
            "border_right": null,
            "border_top": null,
            "bottom": null,
            "display": null,
            "flex": null,
            "flex_flow": null,
            "grid_area": null,
            "grid_auto_columns": null,
            "grid_auto_flow": null,
            "grid_auto_rows": null,
            "grid_column": null,
            "grid_gap": null,
            "grid_row": null,
            "grid_template_areas": null,
            "grid_template_columns": null,
            "grid_template_rows": null,
            "height": null,
            "justify_content": null,
            "justify_items": null,
            "left": null,
            "margin": null,
            "max_height": null,
            "max_width": null,
            "min_height": null,
            "min_width": null,
            "object_fit": null,
            "object_position": null,
            "order": null,
            "overflow": null,
            "padding": null,
            "right": null,
            "top": null,
            "visibility": null,
            "width": null
          }
        },
        "c4ba3d05a8b2440cb53189d16f2ccea9": {
          "model_module": "@jupyter-widgets/controls",
          "model_module_version": "2.0.0",
          "model_name": "CheckboxModel",
          "state": {
            "_dom_classes": [],
            "_model_module": "@jupyter-widgets/controls",
            "_model_module_version": "2.0.0",
            "_model_name": "CheckboxModel",
            "_view_count": null,
            "_view_module": "@jupyter-widgets/controls",
            "_view_module_version": "2.0.0",
            "_view_name": "CheckboxView",
            "description": "Add token as git credential?",
            "description_allow_html": false,
            "disabled": false,
            "indent": true,
            "layout": "IPY_MODEL_edc89d2cb26e475dbd72b78d7368747b",
            "style": "IPY_MODEL_e306259074614f82a1fc37e1a0a8193a",
            "tabbable": null,
            "tooltip": null,
            "value": true
          }
        },
        "d465114837f3480cb2364cd01fdad3ba": {
          "model_module": "@jupyter-widgets/controls",
          "model_module_version": "2.0.0",
          "model_name": "CheckboxModel",
          "state": {
            "_dom_classes": [],
            "_model_module": "@jupyter-widgets/controls",
            "_model_module_version": "2.0.0",
            "_model_name": "CheckboxModel",
            "_view_count": null,
            "_view_module": "@jupyter-widgets/controls",
            "_view_module_version": "2.0.0",
            "_view_name": "CheckboxView",
            "description": "Add token as git credential?",
            "description_allow_html": false,
            "disabled": false,
            "indent": true,
            "layout": "IPY_MODEL_1bcfeca349fa4fcea511e8b7068f338d",
            "style": "IPY_MODEL_b1fb9539ba6d4d7cbd3e1f0c44b41188",
            "tabbable": null,
            "tooltip": null,
            "value": true
          }
        },
        "d91ded4557a8496fbf7f367a60adaec5": {
          "model_module": "@jupyter-widgets/controls",
          "model_module_version": "2.0.0",
          "model_name": "HTMLStyleModel",
          "state": {
            "_model_module": "@jupyter-widgets/controls",
            "_model_module_version": "2.0.0",
            "_model_name": "HTMLStyleModel",
            "_view_count": null,
            "_view_module": "@jupyter-widgets/base",
            "_view_module_version": "2.0.0",
            "_view_name": "StyleView",
            "background": null,
            "description_width": "",
            "font_size": null,
            "text_color": null
          }
        },
        "e306259074614f82a1fc37e1a0a8193a": {
          "model_module": "@jupyter-widgets/controls",
          "model_module_version": "2.0.0",
          "model_name": "CheckboxStyleModel",
          "state": {
            "_model_module": "@jupyter-widgets/controls",
            "_model_module_version": "2.0.0",
            "_model_name": "CheckboxStyleModel",
            "_view_count": null,
            "_view_module": "@jupyter-widgets/base",
            "_view_module_version": "2.0.0",
            "_view_name": "StyleView",
            "background": null,
            "description_width": ""
          }
        },
        "edc89d2cb26e475dbd72b78d7368747b": {
          "model_module": "@jupyter-widgets/base",
          "model_module_version": "2.0.0",
          "model_name": "LayoutModel",
          "state": {
            "_model_module": "@jupyter-widgets/base",
            "_model_module_version": "2.0.0",
            "_model_name": "LayoutModel",
            "_view_count": null,
            "_view_module": "@jupyter-widgets/base",
            "_view_module_version": "2.0.0",
            "_view_name": "LayoutView",
            "align_content": null,
            "align_items": null,
            "align_self": null,
            "border_bottom": null,
            "border_left": null,
            "border_right": null,
            "border_top": null,
            "bottom": null,
            "display": null,
            "flex": null,
            "flex_flow": null,
            "grid_area": null,
            "grid_auto_columns": null,
            "grid_auto_flow": null,
            "grid_auto_rows": null,
            "grid_column": null,
            "grid_gap": null,
            "grid_row": null,
            "grid_template_areas": null,
            "grid_template_columns": null,
            "grid_template_rows": null,
            "height": null,
            "justify_content": null,
            "justify_items": null,
            "left": null,
            "margin": null,
            "max_height": null,
            "max_width": null,
            "min_height": null,
            "min_width": null,
            "object_fit": null,
            "object_position": null,
            "order": null,
            "overflow": null,
            "padding": null,
            "right": null,
            "top": null,
            "visibility": null,
            "width": null
          }
        },
        "ee34e9c10b1945a4a9a6d533e68b1451": {
          "model_module": "@jupyter-widgets/controls",
          "model_module_version": "2.0.0",
          "model_name": "PasswordModel",
          "state": {
            "_dom_classes": [],
            "_model_module": "@jupyter-widgets/controls",
            "_model_module_version": "2.0.0",
            "_model_name": "PasswordModel",
            "_view_count": null,
            "_view_module": "@jupyter-widgets/controls",
            "_view_module_version": "2.0.0",
            "_view_name": "PasswordView",
            "continuous_update": true,
            "description": "Token:",
            "description_allow_html": false,
            "disabled": false,
            "layout": "IPY_MODEL_bb3cbaf37d9b471b888c4ba05b52be5d",
            "placeholder": "​",
            "style": "IPY_MODEL_8bc1610027d64d118ce155412d49e20a",
            "tabbable": null,
            "tooltip": null,
            "value": ""
          }
        }
      }
    }
  },
  "nbformat": 4,
  "nbformat_minor": 5
}
